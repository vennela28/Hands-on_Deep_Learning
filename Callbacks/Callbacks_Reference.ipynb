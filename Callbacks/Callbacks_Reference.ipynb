{
 "cells": [
  {
   "cell_type": "code",
   "execution_count": 1,
   "metadata": {
    "id": "gjzTYtr1OMW3"
   },
   "outputs": [],
   "source": [
    "import tensorflow as tf\n",
    "#enabled to get instant output. if you don't need, you can use session concept which was dicussed in lecture videos. "
   ]
  },
  {
   "cell_type": "code",
   "execution_count": 2,
   "metadata": {
    "colab": {
     "base_uri": "https://localhost:8080/",
     "height": 34
    },
    "id": "3rOqYAusgIhU",
    "outputId": "d0df2b7e-4cd8-4307-f936-4c141aa35fe7"
   },
   "outputs": [
    {
     "name": "stdout",
     "output_type": "stream",
     "text": [
      "(1000, 8, 1, 128)\n"
     ]
    }
   ],
   "source": [
    "a = tf.random.uniform(shape = (1000, 8, 1, 64))\n",
    "b = tf.random.uniform(shape = (1000, 8, 1, 64))\n",
    "add = tf.concat([a, b], 3)\n",
    "print(add.shape)"
   ]
  },
  {
   "cell_type": "markdown",
   "metadata": {},
   "source": [
    "# Operations on Tensors"
   ]
  },
  {
   "cell_type": "markdown",
   "metadata": {
    "id": "K0WP3DUvOMW_"
   },
   "source": [
    "## 1.1 Addition\n",
    "\n",
    "- It is similar to numpy addition."
   ]
  },
  {
   "cell_type": "code",
   "execution_count": 3,
   "metadata": {
    "colab": {
     "base_uri": "https://localhost:8080/",
     "height": 67
    },
    "id": "qcKl2W9qOMXC",
    "outputId": "36f8bb88-cd28-4335-a2df-93a31d1619de"
   },
   "outputs": [
    {
     "data": {
      "text/plain": [
       "<tf.Tensor: shape=(2, 2), dtype=float32, numpy=\n",
       "array([[0.78308415, 0.03332865],\n",
       "       [0.984378  , 0.16173077]], dtype=float32)>"
      ]
     },
     "execution_count": 3,
     "metadata": {},
     "output_type": "execute_result"
    }
   ],
   "source": [
    "a = tf.random.uniform(shape = (2, 2))\n",
    "a"
   ]
  },
  {
   "cell_type": "code",
   "execution_count": 4,
   "metadata": {
    "colab": {
     "base_uri": "https://localhost:8080/",
     "height": 67
    },
    "id": "COUVYv5BOMXO",
    "outputId": "de776902-5791-49b3-9840-87965d472f41"
   },
   "outputs": [
    {
     "data": {
      "text/plain": [
       "<tf.Tensor: shape=(2, 2), dtype=float32, numpy=\n",
       "array([[0.65161586, 0.08592081],\n",
       "       [0.476027  , 0.55099475]], dtype=float32)>"
      ]
     },
     "execution_count": 4,
     "metadata": {},
     "output_type": "execute_result"
    }
   ],
   "source": [
    "b = tf.random.uniform(shape = (2, 2))\n",
    "b"
   ]
  },
  {
   "cell_type": "code",
   "execution_count": 5,
   "metadata": {
    "id": "7I1KMCgiOMXV"
   },
   "outputs": [],
   "source": [
    "add = a + b"
   ]
  },
  {
   "cell_type": "code",
   "execution_count": 6,
   "metadata": {
    "colab": {
     "base_uri": "https://localhost:8080/",
     "height": 67
    },
    "id": "ksQu6lT6OMXa",
    "outputId": "27692d8c-a490-426f-a321-7d0b4396b4b7"
   },
   "outputs": [
    {
     "data": {
      "text/plain": [
       "<tf.Tensor: shape=(2, 2), dtype=float32, numpy=\n",
       "array([[1.4347    , 0.11924946],\n",
       "       [1.460405  , 0.7127255 ]], dtype=float32)>"
      ]
     },
     "execution_count": 6,
     "metadata": {},
     "output_type": "execute_result"
    }
   ],
   "source": [
    "add"
   ]
  },
  {
   "cell_type": "markdown",
   "metadata": {
    "id": "YPxWE4stOMXe"
   },
   "source": [
    "- Broadcasting works similar to numpy."
   ]
  },
  {
   "cell_type": "code",
   "execution_count": 7,
   "metadata": {
    "id": "kKaICOghOMXg"
   },
   "outputs": [],
   "source": [
    "c = 2.0"
   ]
  },
  {
   "cell_type": "code",
   "execution_count": 8,
   "metadata": {
    "id": "7pINN69LOMXn"
   },
   "outputs": [],
   "source": [
    "add_2 = a + c"
   ]
  },
  {
   "cell_type": "code",
   "execution_count": 9,
   "metadata": {
    "id": "LIaJTqAwOMXr",
    "outputId": "c510312e-78e7-45d0-d40d-52780d62b18c"
   },
   "outputs": [
    {
     "data": {
      "text/plain": [
       "<tf.Tensor: shape=(2, 2), dtype=float32, numpy=\n",
       "array([[2.7830842, 2.0333285],\n",
       "       [2.9843779, 2.1617308]], dtype=float32)>"
      ]
     },
     "execution_count": 9,
     "metadata": {},
     "output_type": "execute_result"
    }
   ],
   "source": [
    "add_2"
   ]
  },
  {
   "cell_type": "markdown",
   "metadata": {
    "id": "1rOJ8iYoOMXw"
   },
   "source": [
    "## 1.2 Subtraction\n",
    "\n",
    "- It is similar to numpy subtraction."
   ]
  },
  {
   "cell_type": "code",
   "execution_count": 10,
   "metadata": {
    "id": "x8o22IU7OMXy",
    "outputId": "9bfb179f-8fad-4ef5-cdc6-7b918e37ac6e"
   },
   "outputs": [
    {
     "data": {
      "text/plain": [
       "<tf.Tensor: shape=(2, 2), dtype=float32, numpy=\n",
       "array([[0.0314467 , 0.80735946],\n",
       "       [0.41693377, 0.6594752 ]], dtype=float32)>"
      ]
     },
     "execution_count": 10,
     "metadata": {},
     "output_type": "execute_result"
    }
   ],
   "source": [
    "a = tf.random.uniform(shape = (2, 2))\n",
    "a"
   ]
  },
  {
   "cell_type": "code",
   "execution_count": 11,
   "metadata": {
    "id": "IUEmz0MKOMX5",
    "outputId": "87012331-692b-4218-d7ff-33b2d97c0a1f"
   },
   "outputs": [
    {
     "data": {
      "text/plain": [
       "<tf.Tensor: shape=(2, 2), dtype=float32, numpy=\n",
       "array([[0.10770559, 0.3575449 ],\n",
       "       [0.00811422, 0.4149307 ]], dtype=float32)>"
      ]
     },
     "execution_count": 11,
     "metadata": {},
     "output_type": "execute_result"
    }
   ],
   "source": [
    "b = tf.random.uniform(shape = (2, 2))\n",
    "b"
   ]
  },
  {
   "cell_type": "code",
   "execution_count": 12,
   "metadata": {
    "id": "vlGlc6CZOMX8"
   },
   "outputs": [],
   "source": [
    "sub = a - b"
   ]
  },
  {
   "cell_type": "code",
   "execution_count": 13,
   "metadata": {
    "id": "mEst3O84OMYB",
    "outputId": "36456888-3567-4e6e-df04-9cc606fd3b63"
   },
   "outputs": [
    {
     "data": {
      "text/plain": [
       "<tf.Tensor: shape=(2, 2), dtype=float32, numpy=\n",
       "array([[-0.0762589 ,  0.44981456],\n",
       "       [ 0.40881956,  0.2445445 ]], dtype=float32)>"
      ]
     },
     "execution_count": 13,
     "metadata": {},
     "output_type": "execute_result"
    }
   ],
   "source": [
    "sub"
   ]
  },
  {
   "cell_type": "markdown",
   "metadata": {
    "id": "0fjRvsmIOMYG"
   },
   "source": [
    "## 1.3 Multiplication\n",
    "\n",
    "- For 2D matrices, you can multiply (m * p) and (p * n) and get (m * n)\n",
    "- for 3D matrices, you can multiply (b * n * p)  and (b * p * m)  and get (b * n * m). (For any dimensions, you have to maintain last 2 dimensions as 2D multiplication and the (n - 2) dimensions has to be same.) "
   ]
  },
  {
   "cell_type": "code",
   "execution_count": 14,
   "metadata": {
    "id": "OwTNd9c9OMYI",
    "outputId": "b7b2476c-db99-405d-e6f9-b09d9680adc7"
   },
   "outputs": [
    {
     "data": {
      "text/plain": [
       "<tf.Tensor: shape=(3, 2), dtype=float32, numpy=\n",
       "array([[0.2517923 , 0.70235944],\n",
       "       [0.8906764 , 0.79749227],\n",
       "       [0.7189939 , 0.5736898 ]], dtype=float32)>"
      ]
     },
     "execution_count": 14,
     "metadata": {},
     "output_type": "execute_result"
    }
   ],
   "source": [
    "a = tf.random.uniform(shape = (3, 2))\n",
    "a"
   ]
  },
  {
   "cell_type": "code",
   "execution_count": 15,
   "metadata": {
    "id": "9Z3SOY-9OMYL",
    "outputId": "3a2c4ef2-bf07-44d3-dda3-0d51c21aee48"
   },
   "outputs": [
    {
     "data": {
      "text/plain": [
       "<tf.Tensor: shape=(2, 4), dtype=float32, numpy=\n",
       "array([[0.21072543, 0.5857222 , 0.6976285 , 0.8861662 ],\n",
       "       [0.9930222 , 0.29130948, 0.4779595 , 0.56893384]], dtype=float32)>"
      ]
     },
     "execution_count": 15,
     "metadata": {},
     "output_type": "execute_result"
    }
   ],
   "source": [
    "b = tf.random.uniform(shape = (2, 4))\n",
    "b"
   ]
  },
  {
   "cell_type": "code",
   "execution_count": 16,
   "metadata": {
    "id": "4PKZKq6COMYP",
    "outputId": "858e7e21-e17e-486d-8089-d56ac69f356f"
   },
   "outputs": [
    {
     "data": {
      "text/plain": [
       "<tf.Tensor: shape=(3, 4), dtype=float32, numpy=\n",
       "array([[0.75051755, 0.3520843 , 0.5113569 , 0.6227259 ],\n",
       "       [0.9796157 , 0.754006  , 1.0025302 , 1.2430077 ],\n",
       "       [0.721197  , 0.58825195, 0.7757911 , 0.9635396 ]], dtype=float32)>"
      ]
     },
     "execution_count": 16,
     "metadata": {},
     "output_type": "execute_result"
    }
   ],
   "source": [
    "tf.matmul(a, b) # (3*2)@(2*4) = (3*4)"
   ]
  },
  {
   "cell_type": "markdown",
   "metadata": {
    "id": "gYtPMQCFOMYV"
   },
   "source": [
    "   "
   ]
  },
  {
   "cell_type": "markdown",
   "metadata": {
    "id": "qx21Dbw3OMYY"
   },
   "source": [
    "   "
   ]
  },
  {
   "cell_type": "code",
   "execution_count": 17,
   "metadata": {
    "id": "SKVwmcKROMYY",
    "outputId": "91d8271f-1792-4f19-8997-785831f47032"
   },
   "outputs": [
    {
     "data": {
      "text/plain": [
       "<tf.Tensor: shape=(3, 2, 4), dtype=float32, numpy=\n",
       "array([[[0.3254875 , 0.67364883, 0.4362706 , 0.7715632 ],\n",
       "        [0.97481704, 0.60528445, 0.9669508 , 0.13216615]],\n",
       "\n",
       "       [[0.6781707 , 0.39685857, 0.48808086, 0.6296725 ],\n",
       "        [0.01903629, 0.3195585 , 0.47723138, 0.6447537 ]],\n",
       "\n",
       "       [[0.8956262 , 0.04686892, 0.40163672, 0.06913793],\n",
       "        [0.85227215, 0.6519965 , 0.43259764, 0.6722264 ]]], dtype=float32)>"
      ]
     },
     "execution_count": 17,
     "metadata": {},
     "output_type": "execute_result"
    }
   ],
   "source": [
    "a = tf.random.uniform(shape = (3, 2, 4))\n",
    "a"
   ]
  },
  {
   "cell_type": "code",
   "execution_count": 18,
   "metadata": {
    "id": "mzkP827ROMYd",
    "outputId": "f4982e2e-0f8b-4a2a-f552-b5bc5797e5e7"
   },
   "outputs": [
    {
     "data": {
      "text/plain": [
       "<tf.Tensor: shape=(3, 4, 3), dtype=float32, numpy=\n",
       "array([[[0.5717586 , 0.05273366, 0.67616546],\n",
       "        [0.29332244, 0.08989596, 0.36346936],\n",
       "        [0.53466237, 0.4186293 , 0.22620022],\n",
       "        [0.5030081 , 0.97841334, 0.1399895 ]],\n",
       "\n",
       "       [[0.47136748, 0.8815893 , 0.60688436],\n",
       "        [0.36235952, 0.95743823, 0.18443274],\n",
       "        [0.9118582 , 0.36681187, 0.8060478 ],\n",
       "        [0.05017126, 0.87896883, 0.10624754]],\n",
       "\n",
       "       [[0.48066354, 0.99714184, 0.09804845],\n",
       "        [0.5777912 , 0.13694084, 0.7304851 ],\n",
       "        [0.88022757, 0.25196862, 0.6951982 ],\n",
       "        [0.27413535, 0.99415934, 0.7142519 ]]], dtype=float32)>"
      ]
     },
     "execution_count": 18,
     "metadata": {},
     "output_type": "execute_result"
    }
   ],
   "source": [
    "b = tf.random.uniform(shape = (3, 4, 3))\n",
    "b"
   ]
  },
  {
   "cell_type": "code",
   "execution_count": 19,
   "metadata": {
    "id": "5czLohlFOMYg",
    "outputId": "c786fe34-52f4-471d-fe02-dff13776af91"
   },
   "outputs": [
    {
     "data": {
      "text/plain": [
       "<tf.Tensor: shape=(3, 2, 3), dtype=float32, numpy=\n",
       "array([[[1.0050566 , 1.0152658 , 0.6716293 ],\n",
       "        [1.3183764 , 0.63992536, 1.1163663 ]],\n",
       "\n",
       "       [[0.94012505, 1.7103319 , 0.9450825 ],\n",
       "        [0.5922836 , 1.0645123 , 0.5236647 ]],\n",
       "\n",
       "       [[0.8300602 , 1.0694187 , 0.4506508 ],\n",
       "        [1.3514394 , 1.7164223 , 1.3407178 ]]], dtype=float32)>"
      ]
     },
     "execution_count": 19,
     "metadata": {},
     "output_type": "execute_result"
    }
   ],
   "source": [
    "tf.matmul(a, b) # (3*2*4)@(3*4*3) = (3*2*3)"
   ]
  },
  {
   "cell_type": "markdown",
   "metadata": {
    "id": "XYmcWP5fOMYj"
   },
   "source": [
    "    "
   ]
  },
  {
   "cell_type": "markdown",
   "metadata": {
    "id": "WzrmujBNOMYm"
   },
   "source": [
    "  "
   ]
  },
  {
   "cell_type": "code",
   "execution_count": 20,
   "metadata": {
    "id": "c8OvUeISOMYp",
    "outputId": "ba7ecb53-eaf5-4661-e773-afa56b29fc21"
   },
   "outputs": [
    {
     "data": {
      "text/plain": [
       "<tf.Tensor: shape=(3, 2, 2, 4), dtype=float32, numpy=\n",
       "array([[[[0.01429594, 0.4223863 , 0.80560446, 0.14390492],\n",
       "         [0.42274368, 0.9815664 , 0.58824134, 0.49508488]],\n",
       "\n",
       "        [[0.07857883, 0.6209774 , 0.603233  , 0.24505496],\n",
       "         [0.17909837, 0.772037  , 0.9310523 , 0.6904136 ]]],\n",
       "\n",
       "\n",
       "       [[[0.7513546 , 0.58209646, 0.53064597, 0.09678721],\n",
       "         [0.05637896, 0.8611064 , 0.09898281, 0.548628  ]],\n",
       "\n",
       "        [[0.93143284, 0.10243189, 0.24637568, 0.614236  ],\n",
       "         [0.679898  , 0.53600955, 0.7176527 , 0.33754313]]],\n",
       "\n",
       "\n",
       "       [[[0.60599446, 0.60929763, 0.8986367 , 0.7134429 ],\n",
       "         [0.62921464, 0.05960095, 0.04345918, 0.09566772]],\n",
       "\n",
       "        [[0.76550114, 0.55320084, 0.44157505, 0.15665066],\n",
       "         [0.1811341 , 0.06310606, 0.7682396 , 0.05124319]]]],\n",
       "      dtype=float32)>"
      ]
     },
     "execution_count": 20,
     "metadata": {},
     "output_type": "execute_result"
    }
   ],
   "source": [
    "a = tf.random.uniform(shape = (3, 2, 2, 4))\n",
    "a"
   ]
  },
  {
   "cell_type": "code",
   "execution_count": 21,
   "metadata": {
    "id": "Ap6ISJUTOMYs",
    "outputId": "85582bc7-53e7-4469-ba90-f8620c723c15"
   },
   "outputs": [
    {
     "data": {
      "text/plain": [
       "<tf.Tensor: shape=(3, 2, 4, 3), dtype=float32, numpy=\n",
       "array([[[[0.29056573, 0.38138044, 0.20152605],\n",
       "         [0.75162685, 0.72390354, 0.33710968],\n",
       "         [0.2832091 , 0.05164313, 0.10042036],\n",
       "         [0.72570205, 0.23711216, 0.03991342]],\n",
       "\n",
       "        [[0.00413275, 0.7443501 , 0.7840985 ],\n",
       "         [0.8246541 , 0.23967087, 0.52678347],\n",
       "         [0.3346733 , 0.29989827, 0.288087  ],\n",
       "         [0.439579  , 0.6211536 , 0.29454267]]],\n",
       "\n",
       "\n",
       "       [[[0.43116033, 0.2101314 , 0.15840971],\n",
       "         [0.31491733, 0.19404733, 0.3733045 ],\n",
       "         [0.01283836, 0.68368435, 0.3573302 ],\n",
       "         [0.36876488, 0.13692915, 0.79376996]],\n",
       "\n",
       "        [[0.90916646, 0.47760665, 0.16765702],\n",
       "         [0.5069274 , 0.62244153, 0.9805033 ],\n",
       "         [0.4536736 , 0.7714653 , 0.32625508],\n",
       "         [0.50434124, 0.04597962, 0.94591177]]],\n",
       "\n",
       "\n",
       "       [[[0.97778153, 0.19703376, 0.5845691 ],\n",
       "         [0.5392922 , 0.9948354 , 0.5877662 ],\n",
       "         [0.23069906, 0.48253143, 0.24779499],\n",
       "         [0.5864959 , 0.18578029, 0.2195195 ]],\n",
       "\n",
       "        [[0.5706618 , 0.7467232 , 0.76410365],\n",
       "         [0.22201777, 0.3338915 , 0.5112735 ],\n",
       "         [0.41227806, 0.27158046, 0.45857394],\n",
       "         [0.5799837 , 0.6901932 , 0.50214565]]]], dtype=float32)>"
      ]
     },
     "execution_count": 21,
     "metadata": {},
     "output_type": "execute_result"
    }
   ],
   "source": [
    "b = tf.random.uniform(shape = (3, 2, 4, 3))\n",
    "b"
   ]
  },
  {
   "cell_type": "code",
   "execution_count": 22,
   "metadata": {
    "id": "gyzlUiPuOMYv",
    "outputId": "6398669a-01d9-4d1a-819f-4c1ea453d852"
   },
   "outputs": [
    {
     "data": {
      "text/plain": [
       "<tf.Tensor: shape=(3, 2, 2, 3), dtype=float32, numpy=\n",
       "array([[[[0.65421736, 0.38694468, 0.23191434],\n",
       "         [1.3864858 , 1.0195549 , 0.49492133]],\n",
       "\n",
       "        [[0.82202333, 0.5404457 , 0.6346969 ],\n",
       "         [1.2524934 , 1.0264206 , 1.0187075 ]]],\n",
       "\n",
       "\n",
       "       [[[0.5497709 , 0.6468848 , 0.60276365],\n",
       "         [0.4990712 , 0.32173854, 0.80123985]],\n",
       "\n",
       "        [[1.3203117 , 0.726929  , 0.91799045],\n",
       "         [1.3856753 , 1.2275226 , 1.1929727 ]]],\n",
       "\n",
       "\n",
       "       [[[1.5468657 , 1.2917163 , 1.0916624 ],\n",
       "         [0.71351147, 0.22201326, 0.43462077]],\n",
       "\n",
       "        [[0.8325692 , 0.9843689 , 1.1489154 ],\n",
       "         [0.46382552, 0.40033415, 0.5486959 ]]]], dtype=float32)>"
      ]
     },
     "execution_count": 22,
     "metadata": {},
     "output_type": "execute_result"
    }
   ],
   "source": [
    "tf.matmul(a,b) # (3*2*2*4)@(3*2*4*3)=(3*2*2*3)"
   ]
  },
  {
   "cell_type": "markdown",
   "metadata": {
    "id": "vhFWsCP1OMY0"
   },
   "source": [
    "## 1. 4 Transpose\n",
    " - matrix transpose"
   ]
  },
  {
   "cell_type": "code",
   "execution_count": 23,
   "metadata": {
    "id": "chFxqDYUOMY0",
    "outputId": "8f695cd4-a9fa-4e36-9775-6f13dad25ac1"
   },
   "outputs": [
    {
     "data": {
      "text/plain": [
       "<tf.Tensor: shape=(3, 2), dtype=float32, numpy=\n",
       "array([[0.7529545 , 0.43751907],\n",
       "       [0.03869033, 0.8949002 ],\n",
       "       [0.8211477 , 0.5384536 ]], dtype=float32)>"
      ]
     },
     "execution_count": 23,
     "metadata": {},
     "output_type": "execute_result"
    }
   ],
   "source": [
    "a = tf.random.uniform(shape = (3, 2))\n",
    "a"
   ]
  },
  {
   "cell_type": "code",
   "execution_count": 24,
   "metadata": {
    "id": "hcgW9_ctOMY5",
    "outputId": "7cee185b-054f-4300-d5b9-48b9665ce266"
   },
   "outputs": [
    {
     "data": {
      "text/plain": [
       "TensorShape([3, 2])"
      ]
     },
     "execution_count": 24,
     "metadata": {},
     "output_type": "execute_result"
    }
   ],
   "source": [
    "a.shape"
   ]
  },
  {
   "cell_type": "code",
   "execution_count": 25,
   "metadata": {
    "id": "2qoOVv8pOMY9",
    "outputId": "9e01e07a-026e-499e-ac90-781bd8edd78e"
   },
   "outputs": [
    {
     "data": {
      "text/plain": [
       "<tf.Tensor: shape=(2, 3), dtype=float32, numpy=\n",
       "array([[0.7529545 , 0.03869033, 0.8211477 ],\n",
       "       [0.43751907, 0.8949002 , 0.5384536 ]], dtype=float32)>"
      ]
     },
     "execution_count": 25,
     "metadata": {},
     "output_type": "execute_result"
    }
   ],
   "source": [
    "tf.transpose(a)"
   ]
  },
  {
   "cell_type": "markdown",
   "metadata": {
    "id": "BwTCIpAQOMZA"
   },
   "source": [
    "- We can use the \"perm\" argument for transpose function, in order to change rows and column positions."
   ]
  },
  {
   "cell_type": "code",
   "execution_count": 26,
   "metadata": {
    "id": "iMyw2YIAOMZB",
    "outputId": "62093672-34a0-4f2d-a0db-3c7648ec3485"
   },
   "outputs": [
    {
     "data": {
      "text/plain": [
       "TensorShape([3, 2, 5, 4])"
      ]
     },
     "execution_count": 26,
     "metadata": {},
     "output_type": "execute_result"
    }
   ],
   "source": [
    "a = tf.random.uniform(shape = (3, 2, 5, 4))\n",
    "a.shape"
   ]
  },
  {
   "cell_type": "code",
   "execution_count": 27,
   "metadata": {
    "id": "GUquLpjJOMZG"
   },
   "outputs": [],
   "source": [
    "a_transpose = tf.transpose(a, perm = [0, 2, 1, 3])"
   ]
  },
  {
   "cell_type": "code",
   "execution_count": 28,
   "metadata": {
    "id": "4K7g_bAsOMZK",
    "outputId": "ef86f009-d814-4b24-cc5b-abee06aa420a"
   },
   "outputs": [
    {
     "data": {
      "text/plain": [
       "TensorShape([3, 5, 2, 4])"
      ]
     },
     "execution_count": 28,
     "metadata": {},
     "output_type": "execute_result"
    }
   ],
   "source": [
    "a_transpose.shape"
   ]
  },
  {
   "cell_type": "markdown",
   "metadata": {
    "id": "zmDQktLGOMZO"
   },
   "source": [
    "- The transposed matrix dimensions change based on perm values (we transposed 1 and 2 axis only). "
   ]
  },
  {
   "cell_type": "code",
   "execution_count": 29,
   "metadata": {
    "id": "pD1ytjz0OMZP",
    "outputId": "b2acaecd-9ef3-4263-9eca-c8f91958cbfe"
   },
   "outputs": [
    {
     "data": {
      "text/plain": [
       "TensorShape([3, 2, 5, 4])"
      ]
     },
     "execution_count": 29,
     "metadata": {},
     "output_type": "execute_result"
    }
   ],
   "source": [
    "a = tf.random.uniform(shape = (3, 2, 5, 4))\n",
    "a.shape"
   ]
  },
  {
   "cell_type": "code",
   "execution_count": 30,
   "metadata": {
    "id": "IagVMwNjOMZR"
   },
   "outputs": [],
   "source": [
    "a_transpose = tf.transpose(a, perm = [3, 2, 1, 0])"
   ]
  },
  {
   "cell_type": "code",
   "execution_count": 31,
   "metadata": {
    "id": "rbcCTZuiOMZU",
    "outputId": "9d0c0432-706c-4b04-c0bb-fab83d6192ff"
   },
   "outputs": [
    {
     "data": {
      "text/plain": [
       "TensorShape([4, 5, 2, 3])"
      ]
     },
     "execution_count": 31,
     "metadata": {},
     "output_type": "execute_result"
    }
   ],
   "source": [
    "a_transpose.shape"
   ]
  },
  {
   "cell_type": "markdown",
   "metadata": {
    "id": "_galZ10JOMZX"
   },
   "source": [
    "## 1. 4 Element-wise operation"
   ]
  },
  {
   "cell_type": "markdown",
   "metadata": {
    "id": "luaCDJ_8OMZY"
   },
   "source": [
    "### 1.4.1 Multiply Respective elements in two matrices\n",
    "Ex: \n",
    "<pre>\n",
    "A = [[1 2],\n",
    "     [3,4]]\n",
    "\n",
    "B = [[5,6],\n",
    "     [7,8]]\n",
    "\n",
    "we want A*B as \n",
    "[A[0][0]*B[0][0], A[0][1]*B[0][1]\n",
    "A[1][0]*B[1][0], A[1][1]*B[1][1]]\n",
    "</pre>"
   ]
  },
  {
   "cell_type": "code",
   "execution_count": 32,
   "metadata": {
    "id": "rIOB8zyIOMZZ",
    "outputId": "3ec7c53e-9347-4950-8359-443895d507b8"
   },
   "outputs": [
    {
     "data": {
      "text/plain": [
       "<tf.Tensor: shape=(3, 2), dtype=float32, numpy=\n",
       "array([[0.15711999, 0.10806119],\n",
       "       [0.80558646, 0.16019166],\n",
       "       [0.9177606 , 0.10249913]], dtype=float32)>"
      ]
     },
     "execution_count": 32,
     "metadata": {},
     "output_type": "execute_result"
    }
   ],
   "source": [
    "a = tf.random.uniform(shape = (3, 2))\n",
    "a"
   ]
  },
  {
   "cell_type": "code",
   "execution_count": 33,
   "metadata": {
    "id": "kJxr1BFgOMZc",
    "outputId": "f1404940-d2f2-4f8e-d887-6863e9112890"
   },
   "outputs": [
    {
     "data": {
      "text/plain": [
       "<tf.Tensor: shape=(3, 2), dtype=float32, numpy=\n",
       "array([[0.84312403, 0.26054716],\n",
       "       [0.05022228, 0.7247685 ],\n",
       "       [0.41734254, 0.17331576]], dtype=float32)>"
      ]
     },
     "execution_count": 33,
     "metadata": {},
     "output_type": "execute_result"
    }
   ],
   "source": [
    "b = tf.random.uniform(shape = (3, 2))\n",
    "b"
   ]
  },
  {
   "cell_type": "code",
   "execution_count": 34,
   "metadata": {
    "id": "qszNHNK8OMZe",
    "outputId": "b2cf32a9-29dd-485b-e845-b8e1e788324a"
   },
   "outputs": [
    {
     "data": {
      "text/plain": [
       "<tf.Tensor: shape=(3, 2), dtype=float32, numpy=\n",
       "array([[0.13247164, 0.02815504],\n",
       "       [0.04045838, 0.11610187],\n",
       "       [0.38302055, 0.01776471]], dtype=float32)>"
      ]
     },
     "execution_count": 34,
     "metadata": {},
     "output_type": "execute_result"
    }
   ],
   "source": [
    "a * b"
   ]
  },
  {
   "cell_type": "code",
   "execution_count": 35,
   "metadata": {
    "id": "PLWk8lQkOMZg",
    "outputId": "7e4d4b95-e10e-48a2-e123-5ac3b5ada568"
   },
   "outputs": [
    {
     "data": {
      "text/plain": [
       "<tf.Tensor: shape=(3, 2), dtype=float32, numpy=\n",
       "array([[0.13247164, 0.02815504],\n",
       "       [0.04045838, 0.11610187],\n",
       "       [0.38302055, 0.01776471]], dtype=float32)>"
      ]
     },
     "execution_count": 35,
     "metadata": {},
     "output_type": "execute_result"
    }
   ],
   "source": [
    "tf.multiply(a, b)"
   ]
  },
  {
   "cell_type": "markdown",
   "metadata": {
    "id": "k6KnJSQ9OMZi"
   },
   "source": [
    "We can use a * b or use tf.multiply(a, b)."
   ]
  },
  {
   "cell_type": "markdown",
   "metadata": {
    "id": "z8dLCOEaOMZj"
   },
   "source": [
    "## 1.5 Expanding Dimensions"
   ]
  },
  {
   "cell_type": "code",
   "execution_count": 36,
   "metadata": {
    "id": "GrSkSucPOMZj",
    "outputId": "66be7e9f-b2d9-4045-9b1f-a85e35d3cd1a"
   },
   "outputs": [
    {
     "data": {
      "text/plain": [
       "TensorShape([3, 2])"
      ]
     },
     "execution_count": 36,
     "metadata": {},
     "output_type": "execute_result"
    }
   ],
   "source": [
    "a = tf.random.uniform(shape = (3, 2))\n",
    "a.shape"
   ]
  },
  {
   "cell_type": "code",
   "execution_count": 37,
   "metadata": {
    "id": "Ea9KHLbSOMZm"
   },
   "outputs": [],
   "source": [
    "a_add = tf.expand_dims(a, axis = 1) # adding an additional axis at 1st dim"
   ]
  },
  {
   "cell_type": "code",
   "execution_count": 38,
   "metadata": {
    "id": "YfcxwikXOMZq",
    "outputId": "b735dccc-a254-47b9-9ee0-c0077237deb9"
   },
   "outputs": [
    {
     "data": {
      "text/plain": [
       "TensorShape([3, 1, 2])"
      ]
     },
     "execution_count": 38,
     "metadata": {},
     "output_type": "execute_result"
    }
   ],
   "source": [
    "a_add.shape"
   ]
  },
  {
   "cell_type": "markdown",
   "metadata": {
    "id": "t28TsjlQOMZv"
   },
   "source": [
    "  "
   ]
  },
  {
   "cell_type": "code",
   "execution_count": 39,
   "metadata": {
    "id": "2q_MkdrgOMZw",
    "outputId": "dd3d6bd9-8bd4-441e-c51e-8a4d0432770c"
   },
   "outputs": [
    {
     "data": {
      "text/plain": [
       "TensorShape([3, 2])"
      ]
     },
     "execution_count": 39,
     "metadata": {},
     "output_type": "execute_result"
    }
   ],
   "source": [
    "a = tf.random.uniform(shape = (3, 2))\n",
    "a.shape"
   ]
  },
  {
   "cell_type": "code",
   "execution_count": 40,
   "metadata": {
    "id": "A3UzTFUFOMZ0"
   },
   "outputs": [],
   "source": [
    "a_add = tf.expand_dims(a, axis = 2)#we are adding an additional axis at 2nd dim"
   ]
  },
  {
   "cell_type": "code",
   "execution_count": 41,
   "metadata": {
    "id": "fc4R99CxOMZ2",
    "outputId": "fbb6308d-198b-4437-af9d-1afb3d2c6b72"
   },
   "outputs": [
    {
     "data": {
      "text/plain": [
       "TensorShape([3, 2, 1])"
      ]
     },
     "execution_count": 41,
     "metadata": {},
     "output_type": "execute_result"
    }
   ],
   "source": [
    "a_add.shape"
   ]
  },
  {
   "cell_type": "markdown",
   "metadata": {
    "id": "OQayeY4wOMZ5"
   },
   "source": [
    "## 1.6 Squeezing dimensions"
   ]
  },
  {
   "cell_type": "markdown",
   "metadata": {
    "id": "AVomMzI6OMZ6"
   },
   "source": [
    "___Note that we can squeeze along with the axis with shape 1.___\n",
    "\n",
    "A.shape = [3,4,1] ==> we can squeeze it on axis = 2 will give [3,4]\n",
    "\n",
    "A.shape = [3,1,4] ==> we can squeeze it on axis = 1 will give [3,4]\n",
    "\n",
    "A.shape = [1,3,4] ==> we can squeeze it on axis = 0 will give [3,4]\n",
    "\n",
    "A.shape = [2,3,4] ==> we can't squeeze it on any of the axis.\n"
   ]
  },
  {
   "cell_type": "code",
   "execution_count": 42,
   "metadata": {
    "id": "FYqN12oiOMZ9",
    "outputId": "18ea673d-f869-4d7a-e369-4bcc976cde32"
   },
   "outputs": [
    {
     "data": {
      "text/plain": [
       "<tf.Tensor: shape=(3, 1, 4), dtype=float32, numpy=\n",
       "array([[[0.5583917 , 0.4979323 , 0.49761176, 0.786607  ]],\n",
       "\n",
       "       [[0.9331033 , 0.33179402, 0.6131973 , 0.95808077]],\n",
       "\n",
       "       [[0.74531066, 0.2001965 , 0.68869615, 0.78183305]]], dtype=float32)>"
      ]
     },
     "execution_count": 42,
     "metadata": {},
     "output_type": "execute_result"
    }
   ],
   "source": [
    "a = tf.random.uniform(shape = (3, 1, 4))\n",
    "a.shape\n",
    "a"
   ]
  },
  {
   "cell_type": "code",
   "execution_count": 43,
   "metadata": {
    "id": "-H6UcJfJOMaA"
   },
   "outputs": [],
   "source": [
    "a_squ = tf.squeeze(a, axis = 1)\n",
    "# a_squ = tf.squeeze(a)"
   ]
  },
  {
   "cell_type": "code",
   "execution_count": 44,
   "metadata": {
    "id": "RTxBvofpOMaD",
    "outputId": "60a18069-76fd-405a-97e2-47962e7555f1",
    "scrolled": true
   },
   "outputs": [
    {
     "data": {
      "text/plain": [
       "<tf.Tensor: shape=(3, 4), dtype=float32, numpy=\n",
       "array([[0.5583917 , 0.4979323 , 0.49761176, 0.786607  ],\n",
       "       [0.9331033 , 0.33179402, 0.6131973 , 0.95808077],\n",
       "       [0.74531066, 0.2001965 , 0.68869615, 0.78183305]], dtype=float32)>"
      ]
     },
     "execution_count": 44,
     "metadata": {},
     "output_type": "execute_result"
    }
   ],
   "source": [
    "a_squ"
   ]
  },
  {
   "cell_type": "markdown",
   "metadata": {
    "id": "_SArBwQROMaE"
   },
   "source": [
    "## 1.7 Reshaping of tensors\n",
    "\n",
    "<a href='https://www.tensorflow.org/api_docs/python/tf/reshape'> check the documentation </a>"
   ]
  },
  {
   "cell_type": "code",
   "execution_count": 45,
   "metadata": {
    "colab": {
     "base_uri": "https://localhost:8080/",
     "height": 34
    },
    "id": "wEjdOLJROMaF",
    "outputId": "19bf779c-fe88-4a85-9891-81647f90a99b"
   },
   "outputs": [
    {
     "name": "stdout",
     "output_type": "stream",
     "text": [
      "(5, 3, 4) (15, 4)\n"
     ]
    }
   ],
   "source": [
    "a = tf.random.uniform(shape = (5, 3, 4))\n",
    "\n",
    "# tf.reshape(tensor, [reshape dimensions]])\n",
    "b = tf.reshape(a, [a.shape[0] * a.shape[1], a.shape[2]])\n",
    "\n",
    "print(a.shape, b.shape)"
   ]
  },
  {
   "cell_type": "markdown",
   "metadata": {
    "id": "USHug53cOMaI"
   },
   "source": [
    "# 2. Callbacks"
   ]
  },
  {
   "cell_type": "code",
   "execution_count": 46,
   "metadata": {
    "id": "pYFub-clOMaJ"
   },
   "outputs": [],
   "source": [
    "import numpy as np\n",
    "import pandas as pd"
   ]
  },
  {
   "cell_type": "code",
   "execution_count": 47,
   "metadata": {
    "id": "Edk77ekZOMaM"
   },
   "outputs": [],
   "source": [
    "(X_train, y_train), (X_test, y_test) = tf.keras.datasets.mnist.load_data()\n",
    "# if you observe the input shape its 3 dimensional vector\n",
    "# for each image we have a (28*28) vector\n",
    "# we will convert the (28*28) vector into single dimensional vector of 1 * 784 \n",
    "X_train = X_train.reshape(X_train.shape[0], X_train.shape[1]*X_train.shape[2]) \n",
    "X_test = X_test.reshape(X_test.shape[0], X_test.shape[1]*X_test.shape[2]) \n",
    "Y_train = tf.keras.utils.to_categorical(y_train, 10) \n",
    "Y_test = tf.keras.utils.to_categorical(y_test, 10)"
   ]
  },
  {
   "cell_type": "code",
   "execution_count": 48,
   "metadata": {
    "colab": {
     "base_uri": "https://localhost:8080/"
    },
    "id": "9zuUwtN0OMaO",
    "outputId": "e67c5a2d-a1ae-4520-91b3-4dfe41adfb46"
   },
   "outputs": [
    {
     "name": "stdout",
     "output_type": "stream",
     "text": [
      "(60000, 784)\n",
      "(10000, 784)\n",
      "(60000, 10)\n",
      "(10000, 10)\n"
     ]
    }
   ],
   "source": [
    "print(X_train.shape)\n",
    "print(X_test.shape)\n",
    "print(Y_train.shape)\n",
    "print(Y_test.shape)"
   ]
  },
  {
   "cell_type": "code",
   "execution_count": 49,
   "metadata": {
    "id": "U6sg7WeVOMaP"
   },
   "outputs": [],
   "source": [
    "from tensorflow.keras.layers import Dense,Input,Activation\n",
    "from tensorflow.keras.models import Model\n",
    "import random as rn"
   ]
  },
  {
   "cell_type": "markdown",
   "metadata": {
    "id": "t_psPfAhOMaR"
   },
   "source": [
    "## 2.1 Writing custom callbacks"
   ]
  },
  {
   "cell_type": "markdown",
   "metadata": {
    "id": "N2zS015yOMaR"
   },
   "source": [
    "- In Keras, Callback is a python class which needs to be subclassed to provide specific functionality, with a set of methods called at various stages of training (including batch/epoch start and ends), testing, and predicting. Callbacks are useful to get a view on internal states and statistics of the model during training."
   ]
  },
  {
   "cell_type": "markdown",
   "metadata": {
    "id": "Up_jqqGfOMaS"
   },
   "source": [
    "\n",
    "___Writing Callbacks___\n",
    "\n",
    "You can inherit from <b>`tf.keras.callbacks.Callback`.\n",
    "    \n",
    "Copied the code for callback class from tensorflow documentation and pased in below cell, you can check that code. \n",
    "    \n",
    "It has many methods like batch/epoch_begin/end. So you can do manipulate the model parameters or print the required outputs using these methods.\n",
    "    \n",
    "The __logs__ dict contains the loss value, and all the metrics at the end of a batch or epoch.\n",
    "\n",
    "> <a href='https://www.w3schools.com/python/python_inheritance.asp'> Do Read this Blog to understand how to inhert other classes </a>"
   ]
  },
  {
   "cell_type": "code",
   "execution_count": 50,
   "metadata": {
    "id": "Cv88yZ_pOMaT"
   },
   "outputs": [],
   "source": [
    "class Callback(object):\n",
    "    \n",
    "    \"\"\"Abstract base class used to build new callbacks.\n",
    "      Attributes:\n",
    "          params: dict. Training parameters\n",
    "              (eg. verbosity, batch size, number of epochs...).\n",
    "          model: instance of `keras.models.Model`.\n",
    "              Reference of the model being trained.\n",
    "          validation_data: Deprecated. Do not use.\n",
    "      The `logs` dictionary that callback methods\n",
    "      take as argument will contain keys for quantities relevant to\n",
    "      the current batch or epoch.\n",
    "      Currently, the `.fit()` method of the `Model` class\n",
    "      will include the following quantities in the `logs` that\n",
    "      it passes to its callbacks:\n",
    "          on_epoch_end: logs include `acc` and `loss`, and\n",
    "          optionally include `val_loss`\n",
    "          (if validation is enabled in `fit`), and `val_acc`\n",
    "          (if validation and accuracy monitoring are enabled).\n",
    "          on_batch_begin: logs include `size`,\n",
    "          the number of samples in the current batch.\n",
    "          on_batch_end: logs include `loss`, and optionally `acc`\n",
    "            (if accuracy monitoring is enabled).\n",
    "      \"\"\"\n",
    "\n",
    "    def __init__(self):\n",
    "        self.validation_data = None\n",
    "        self.model = None\n",
    "        # Whether this Callback should only run on the chief worker in a\n",
    "        # Multi-Worker setting.\n",
    "        # TODO(omalleyt): Make this attr public once solution is stable.\n",
    "        self._chief_worker_only = None\n",
    "\n",
    "    def set_params(self, params):\n",
    "        self.params = params\n",
    "\n",
    "    def set_model(self, model):\n",
    "        self.model = model\n",
    "\n",
    "    def on_batch_begin(self, batch, logs=None):\n",
    "        \"\"\"A backwards compatibility alias for `on_train_batch_begin`.\"\"\"\n",
    "\n",
    "    def on_batch_end(self, batch, logs=None):\n",
    "        \"\"\"A backwards compatibility alias for `on_train_batch_end`.\"\"\"\n",
    "\n",
    "    def on_epoch_begin(self, epoch, logs=None):\n",
    "        \"\"\"Called at the start of an epoch.\n",
    "        Subclasses should override for any actions to run. This function should only\n",
    "        be called during TRAIN mode.\n",
    "        Arguments:\n",
    "            epoch: integer, index of epoch.\n",
    "            logs: dict. Currently no data is passed to this argument for this method\n",
    "              but that may change in the future.\n",
    "        \"\"\"\n",
    "\n",
    "    def on_epoch_end(self, epoch, logs=None):\n",
    "        \"\"\"Called at the end of an epoch.\n",
    "        Subclasses should override for any actions to run. This function should only\n",
    "        be called during TRAIN mode.\n",
    "        Arguments:\n",
    "            epoch: integer, index of epoch.\n",
    "            logs: dict, metric results for this training epoch, and for the\n",
    "              validation epoch if validation is performed. Validation result keys\n",
    "              are prefixed with `val_`.\n",
    "        \"\"\"\n",
    "\n",
    "    def on_train_batch_begin(self, batch, logs=None):\n",
    "        \"\"\"Called at the beginning of a training batch in `fit` methods.\n",
    "        Subclasses should override for any actions to run.\n",
    "        Arguments:\n",
    "            batch: integer, index of batch within the current epoch.\n",
    "            logs: dict. Has keys `batch` and `size` representing the current batch\n",
    "              number and the size of the batch.\n",
    "        \"\"\"\n",
    "        # For backwards compatibility.\n",
    "        self.on_batch_begin(batch, logs=logs)\n",
    "\n",
    "    def on_train_batch_end(self, batch, logs=None):\n",
    "        \"\"\"Called at the end of a training batch in `fit` methods.\n",
    "        Subclasses should override for any actions to run.\n",
    "        Arguments:\n",
    "            batch: integer, index of batch within the current epoch.\n",
    "            logs: dict. Metric results for this batch.\n",
    "        \"\"\"\n",
    "        # For backwards compatibility.\n",
    "        self.on_batch_end(batch, logs=logs)\n",
    "\n",
    "    def on_test_batch_begin(self, batch, logs=None):\n",
    "        \"\"\"Called at the beginning of a batch in `evaluate` methods.\n",
    "        Also called at the beginning of a validation batch in the `fit`\n",
    "        methods, if validation data is provided.\n",
    "        Subclasses should override for any actions to run.\n",
    "        Arguments:\n",
    "            batch: integer, index of batch within the current epoch.\n",
    "            logs: dict. Has keys `batch` and `size` representing the current batch\n",
    "                  number and the size of the batch.\n",
    "        \"\"\"\n",
    "\n",
    "    def on_test_batch_end(self, batch, logs=None):\n",
    "        \"\"\"Called at the end of a batch in `evaluate` methods.\n",
    "        Also called at the end of a validation batch in the `fit`\n",
    "        methods, if validation data is provided.\n",
    "        Subclasses should override for any actions to run.\n",
    "        Arguments:\n",
    "            batch: integer, index of batch within the current epoch.\n",
    "            logs: dict. Metric results for this batch.\n",
    "        \"\"\"\n",
    "\n",
    "    def on_predict_batch_begin(self, batch, logs=None):\n",
    "        \"\"\"Called at the beginning of a batch in `predict` methods.\n",
    "        Subclasses should override for any actions to run.\n",
    "        Arguments:\n",
    "            batch: integer, index of batch within the current epoch.\n",
    "            logs: dict. Has keys `batch` and `size` representing the current batch\n",
    "                  number and the size of the batch.\n",
    "        \"\"\"\n",
    "\n",
    "    def on_predict_batch_end(self, batch, logs=None):\n",
    "        \"\"\"Called at the end of a batch in `predict` methods.\n",
    "        Subclasses should override for any actions to run.\n",
    "        Arguments:\n",
    "            batch: integer, index of batch within the current epoch.\n",
    "            logs: dict. Metric results for this batch.\n",
    "        \"\"\"\n",
    "\n",
    "    def on_train_begin(self, logs=None):\n",
    "        \"\"\"Called at the beginning of training.\n",
    "        Subclasses should override for any actions to run.\n",
    "        Arguments:\n",
    "            logs: dict. Currently no data is passed to this argument for this method\n",
    "                  but that may change in the future.\n",
    "        \"\"\"\n",
    "\n",
    "    def on_train_end(self, logs=None):\n",
    "        \"\"\"Called at the end of training.\n",
    "        Subclasses should override for any actions to run.\n",
    "        Arguments:\n",
    "            logs: dict. Currently no data is passed to this argument for this method\n",
    "                  but that may change in the future.\n",
    "        \"\"\"\n",
    "\n",
    "    def on_test_begin(self, logs=None):\n",
    "        \"\"\"Called at the beginning of evaluation or validation.\n",
    "        Subclasses should override for any actions to run.\n",
    "        Arguments:\n",
    "            logs: dict. Currently no data is passed to this argument for this method\n",
    "              but that may change in the future.\n",
    "        \"\"\"\n",
    "\n",
    "    def on_test_end(self, logs=None):\n",
    "        \"\"\"Called at the end of evaluation or validation.\n",
    "        Subclasses should override for any actions to run.\n",
    "        Arguments:\n",
    "            logs: dict. Currently no data is passed to this argument for this method\n",
    "              but that may change in the future.\n",
    "        \"\"\"\n",
    "\n",
    "    def on_predict_begin(self, logs=None):\n",
    "        \"\"\"Called at the beginning of prediction.\n",
    "        Subclasses should override for any actions to run.\n",
    "        Arguments:\n",
    "            logs: dict. Currently no data is passed to this argument for this method\n",
    "              but that may change in the future.\n",
    "        \"\"\"\n",
    "\n",
    "    def on_predict_end(self, logs=None):\n",
    "        \"\"\"Called at the end of prediction.\n",
    "        Subclasses should override for any actions to run.\n",
    "        Arguments:\n",
    "            logs: dict. Currently no data is passed to this argument for this method\n",
    "              but that may change in the future.\n",
    "    \"\"\""
   ]
  },
  {
   "cell_type": "markdown",
   "metadata": {
    "id": "AuQAcJeJndjD"
   },
   "source": [
    "## 2.1.1 Custom callbacks for performance metrices"
   ]
  },
  {
   "cell_type": "code",
   "execution_count": 51,
   "metadata": {
    "id": "pfZUPJ01OMah"
   },
   "outputs": [],
   "source": [
    "from sklearn.metrics import recall_score\n",
    "class LossHistory(tf.keras.callbacks.Callback):\n",
    "    def __init__(self,validation_data):\n",
    "        self.x_test = validation_data[0]\n",
    "        self.y_test= validation_data[1]\n",
    "    def on_train_begin(self, logs={}):\n",
    "        ## on begin of training, we are creating a instance varible called history\n",
    "        ## it is a dict with keys [loss, acc, val_loss, val_acc]\n",
    "        self.history={'loss': [],'accuracy': [],'val_loss': [],'val_accuracy': [],'val_recall': []}\n",
    "        \n",
    "    def on_epoch_end(self, epoch, logs={}):\n",
    "        true_positives=0\n",
    "        ## on end of each epoch, we will get logs and update the self.history dict\n",
    "        self.history['loss'].append(logs.get('loss'))\n",
    "        self.history['accuracy'].append(logs.get('accuracy'))\n",
    "      \n",
    "        if logs.get('val_loss', -1) != -1:\n",
    "            self.history['val_loss'].append(logs.get('val_loss'))\n",
    "        if logs.get('val_accuracy', -1) != -1:\n",
    "            self.history['val_accuracy'].append(logs.get('val_accuracy'))\n",
    "        # we can get a list of all predicted values at the end of the epoch\n",
    "        # we can use these predicted value and the true values to calculate any custom evaluation score if it is needed for our model\n",
    "        # Here we are taking log of all true positives and then taking average of it\n",
    "        y_pred= self.model.predict(self.x_test)\n",
    "        y_label_pred=np.argmax(y_pred,axis=1)\n",
    "        custom_score = np.log(np.sum(y_test== y_label_pred))/len(y_test)\n",
    "        \n",
    "        #we can also calcualte predefined metrics such as precison, recall, etc. using callbacks \n",
    "        recall = recall_score(y_test,y_label_pred,average='micro')\n",
    "        self.history['val_recall'].append(recall)\n",
    "        print('custom_Score: ',np.round(custom_score,5),'Recall: ',recall)\n",
    "            \n",
    "history_own=LossHistory(validation_data=[X_test,y_test])            "
   ]
  },
  {
   "cell_type": "markdown",
   "metadata": {
    "id": "UzEyvZg-OMaj"
   },
   "source": [
    "> in the above function we have written logs={}, which means the logs is a dictionary and the keys present will the same values that gets printed while you train your model i.e model.fit()\n",
    "<img src='https://i.imgur.com/fAiHfe7.png'>"
   ]
  },
  {
   "cell_type": "code",
   "execution_count": 52,
   "metadata": {
    "colab": {
     "base_uri": "https://localhost:8080/"
    },
    "id": "Ca3J3ySeOMak",
    "outputId": "6b66a7b5-08e0-47b3-fc30-8e9e4f7bfec2"
   },
   "outputs": [
    {
     "name": "stdout",
     "output_type": "stream",
     "text": [
      "Epoch 1/3\n",
      "3746/3750 [============================>.] - ETA: 0s - loss: 1.2741 - accuracy: 0.5530custom_Score:  0.00086 Recall:  0.5403\n",
      "3750/3750 [==============================] - 9s 2ms/step - loss: 1.2742 - accuracy: 0.5530 - val_loss: 1.2638 - val_accuracy: 0.5403\n",
      "Epoch 2/3\n",
      "3729/3750 [============================>.] - ETA: 0s - loss: 1.1100 - accuracy: 0.6085custom_Score:  0.00088 Recall:  0.6379\n",
      "3750/3750 [==============================] - 9s 2ms/step - loss: 1.1088 - accuracy: 0.6090 - val_loss: 0.9788 - val_accuracy: 0.6379\n",
      "Epoch 3/3\n",
      "3750/3750 [==============================] - ETA: 0s - loss: 0.9036 - accuracy: 0.6884custom_Score:  0.00089 Recall:  0.7229\n",
      "3750/3750 [==============================] - 9s 2ms/step - loss: 0.9036 - accuracy: 0.6884 - val_loss: 0.8320 - val_accuracy: 0.7229\n"
     ]
    },
    {
     "data": {
      "text/plain": [
       "<keras.callbacks.History at 0x24749df7550>"
      ]
     },
     "execution_count": 52,
     "metadata": {},
     "output_type": "execute_result"
    }
   ],
   "source": [
    "#Input layer\n",
    "input_layer = Input(shape=(784,))\n",
    "#Dense hidden layer\n",
    "layer1 = Dense(50,activation='sigmoid',kernel_initializer=tf.keras.initializers.glorot_normal(seed=30))(input_layer)\n",
    "#output layer\n",
    "output = Dense(10,activation='softmax',kernel_initializer=tf.keras.initializers.glorot_normal(seed=0))(layer1)\n",
    "#Creating a model\n",
    "model = Model(inputs=input_layer,outputs=output)\n",
    "\n",
    "\n",
    "#Callbacks\n",
    "history_own=LossHistory(validation_data=[X_test,y_test])            \n",
    "\n",
    "optimizer = tf.keras.optimizers.Adam(0.01)\n",
    "\n",
    "model.compile(optimizer=optimizer, loss='categorical_crossentropy',metrics=['accuracy'])\n",
    "\n",
    "model.fit(X_train,Y_train,epochs=3, validation_data=(X_test,Y_test), batch_size=16, callbacks=[history_own])\n"
   ]
  },
  {
   "cell_type": "code",
   "execution_count": 53,
   "metadata": {
    "colab": {
     "base_uri": "https://localhost:8080/"
    },
    "id": "5nzuF0OPOMam",
    "outputId": "b5f8b177-62c9-4cd6-c97a-a1cc217b41f8"
   },
   "outputs": [
    {
     "data": {
      "text/plain": [
       "{'loss': [1.2741562128067017, 1.108820915222168, 0.903623104095459],\n",
       " 'accuracy': [0.5529999732971191, 0.6089833378791809, 0.6883999705314636],\n",
       " 'val_loss': [1.2638466358184814, 0.978797197341919, 0.831977128982544],\n",
       " 'val_accuracy': [0.5403000116348267, 0.6378999948501587, 0.7228999733924866],\n",
       " 'val_recall': [0.5403, 0.6379, 0.7229]}"
      ]
     },
     "execution_count": 53,
     "metadata": {},
     "output_type": "execute_result"
    }
   ],
   "source": [
    "history_own.history"
   ]
  },
  {
   "cell_type": "markdown",
   "metadata": {
    "id": "riBZE6ZrOMao"
   },
   "source": [
    "## 2.1.2 Writing callback to terminate training if loss is 'NaN'"
   ]
  },
  {
   "cell_type": "code",
   "execution_count": 54,
   "metadata": {
    "id": "cMYmZMVeOMap"
   },
   "outputs": [],
   "source": [
    "class TerminateNaN(tf.keras.callbacks.Callback):\n",
    "        \n",
    "    def on_epoch_end(self, epoch, logs={}):\n",
    "        loss = logs.get('loss')\n",
    "        if loss is not None:\n",
    "            if np.isnan(loss) or np.isinf(loss):\n",
    "                print(\"Invalid loss and terminated at epoch {}\".format(epoch))\n",
    "                self.model.stop_training = True"
   ]
  },
  {
   "cell_type": "markdown",
   "metadata": {
    "id": "vh4umPy9OMaq"
   },
   "source": [
    "## 2.2 Using tensorflow callbacks"
   ]
  },
  {
   "cell_type": "markdown",
   "metadata": {
    "id": "qv9epZaHOMaq"
   },
   "source": [
    "There are some callbacks which are implemented in the Tensorflow.\n",
    "\n",
    "## 2.2.1 ModelCheckpoint\n",
    "\n",
    "Save the model after every epoch. You can check documentation <a href=\"https://www.tensorflow.org/api_docs/python/tf/keras/callbacks/ModelCheckpoint\">here</a>"
   ]
  },
  {
   "cell_type": "code",
   "execution_count": 55,
   "metadata": {
    "id": "OvIlgI2ROMas"
   },
   "outputs": [],
   "source": [
    "from tensorflow.keras.callbacks import ModelCheckpoint"
   ]
  },
  {
   "cell_type": "code",
   "execution_count": 56,
   "metadata": {
    "colab": {
     "base_uri": "https://localhost:8080/"
    },
    "id": "h3-DSrb2OMau",
    "outputId": "c475d2e4-ba80-484f-d787-684bd80c5ecf"
   },
   "outputs": [
    {
     "name": "stdout",
     "output_type": "stream",
     "text": [
      "Epoch 1/5\n",
      "3734/3750 [============================>.] - ETA: 0s - loss: 1.2405 - accuracy: 0.5624\n",
      "Epoch 00001: val_loss improved from inf to 1.08629, saving model to model_save\\weights-01-0.6153.hdf5\n",
      "3750/3750 [==============================] - 9s 2ms/step - loss: 1.2400 - accuracy: 0.5625 - val_loss: 1.0863 - val_accuracy: 0.6153\n",
      "Epoch 2/5\n",
      "3741/3750 [============================>.] - ETA: 0s - loss: 1.1417 - accuracy: 0.5916\n",
      "Epoch 00002: val_loss did not improve from 1.08629\n",
      "3750/3750 [==============================] - 8s 2ms/step - loss: 1.1416 - accuracy: 0.5917 - val_loss: 1.0940 - val_accuracy: 0.6243\n",
      "Epoch 3/5\n",
      "3748/3750 [============================>.] - ETA: 0s - loss: 0.9971 - accuracy: 0.6637\n",
      "Epoch 00003: val_loss improved from 1.08629 to 0.94945, saving model to model_save\\weights-03-0.6786.hdf5\n",
      "3750/3750 [==============================] - 8s 2ms/step - loss: 0.9969 - accuracy: 0.6636 - val_loss: 0.9495 - val_accuracy: 0.6786\n",
      "Epoch 4/5\n",
      "3744/3750 [============================>.] - ETA: 0s - loss: 0.9009 - accuracy: 0.7026\n",
      "Epoch 00004: val_loss did not improve from 0.94945\n",
      "3750/3750 [==============================] - 7s 2ms/step - loss: 0.9007 - accuracy: 0.7026 - val_loss: 0.9710 - val_accuracy: 0.6539\n",
      "Epoch 5/5\n",
      "3727/3750 [============================>.] - ETA: 0s - loss: 0.8663 - accuracy: 0.7120\n",
      "Epoch 00005: val_loss improved from 0.94945 to 0.87931, saving model to model_save\\weights-05-0.7077.hdf5\n",
      "3750/3750 [==============================] - 8s 2ms/step - loss: 0.8665 - accuracy: 0.7119 - val_loss: 0.8793 - val_accuracy: 0.7077\n"
     ]
    },
    {
     "data": {
      "text/plain": [
       "<keras.callbacks.History at 0x2474c27c430>"
      ]
     },
     "execution_count": 56,
     "metadata": {},
     "output_type": "execute_result"
    }
   ],
   "source": [
    "#Input layer\n",
    "input_layer = Input(shape=(784,))\n",
    "#Dense hidden layer\n",
    "layer1 = Dense(50,activation='sigmoid',kernel_initializer=tf.keras.initializers.glorot_normal(seed=30))(input_layer)\n",
    "#output layer\n",
    "output = Dense(10,activation='softmax',kernel_initializer=tf.keras.initializers.glorot_normal(seed=0))(layer1)\n",
    "#Creating a model\n",
    "model = Model(inputs=input_layer,outputs=output)\n",
    "\n",
    "\n",
    "#Callbacks\n",
    "#file path, it saves the model in the 'model_save' folder and we are naming model with epoch number \n",
    "#and val acc to differtiate with other models\n",
    "#you have to create model_save folder before running the code.\n",
    "filepath=\"model_save/weights-{epoch:02d}-{val_accuracy:.4f}.hdf5\"\n",
    "checkpoint = ModelCheckpoint(filepath=filepath, monitor='val_loss',  verbose=1, save_best_only=True, mode='auto')\n",
    "\n",
    "optimizer = tf.keras.optimizers.Adam(0.01)\n",
    "\n",
    "model.compile(optimizer=optimizer,\n",
    "              loss='categorical_crossentropy',metrics=['accuracy'])\n",
    "\n",
    "model.fit(X_train,Y_train,epochs=5,validation_data=(X_test,Y_test),batch_size=16,callbacks=[checkpoint])"
   ]
  },
  {
   "cell_type": "markdown",
   "metadata": {
    "id": "GfAHPmifOMax"
   },
   "source": [
    "<pre>If you need 4th epoch model, you can load that model as below. It saves optimizer state as well. so noo need to recompile. </pre>"
   ]
  },
  {
   "cell_type": "code",
   "execution_count": 58,
   "metadata": {
    "colab": {
     "base_uri": "https://localhost:8080/",
     "height": 416
    },
    "id": "r0AIY28BOMaz",
    "outputId": "a1c43497-780e-4976-9303-8b36c07c59a9"
   },
   "outputs": [],
   "source": [
    "model.load_weights('model_save/weights-05-0.7077.hdf5')#change this with your name which you got in above output"
   ]
  },
  {
   "cell_type": "code",
   "execution_count": 59,
   "metadata": {
    "id": "lJ7A1PJHOMa0"
   },
   "outputs": [
    {
     "name": "stdout",
     "output_type": "stream",
     "text": [
      "1875/1875 [==============================] - 5s 2ms/step - loss: 0.8623 - accuracy: 0.7134\n"
     ]
    },
    {
     "data": {
      "text/plain": [
       "<keras.callbacks.History at 0x2474c59a430>"
      ]
     },
     "execution_count": 59,
     "metadata": {},
     "output_type": "execute_result"
    }
   ],
   "source": [
    "model.fit(X_train,Y_train)"
   ]
  },
  {
   "cell_type": "markdown",
   "metadata": {
    "id": "yrHJBrPCOMa3"
   },
   "source": [
    "## 2.2.2 EarlyStopping\n",
    "\n",
    "Stop training when a monitored quantity has stopped improving. You can check the documentatin <a href=\"https://www.tensorflow.org/api_docs/python/tf/keras/callbacks/EarlyStopping\">here</a>"
   ]
  },
  {
   "cell_type": "code",
   "execution_count": 60,
   "metadata": {
    "id": "FS1jubUuOMa3"
   },
   "outputs": [],
   "source": [
    "from tensorflow.keras.callbacks import EarlyStopping"
   ]
  },
  {
   "cell_type": "code",
   "execution_count": 61,
   "metadata": {
    "colab": {
     "base_uri": "https://localhost:8080/"
    },
    "id": "_BxU-droOMa6",
    "outputId": "579193f7-69c5-4a8d-b5e5-7310f57d870d"
   },
   "outputs": [
    {
     "name": "stdout",
     "output_type": "stream",
     "text": [
      "Epoch 1/10\n",
      "3750/3750 [==============================] - 8s 2ms/step - loss: 1.4676 - accuracy: 0.4654 - val_loss: 1.3454 - val_accuracy: 0.5010\n",
      "Epoch 2/10\n",
      "3750/3750 [==============================] - 8s 2ms/step - loss: 1.2669 - accuracy: 0.5414 - val_loss: 1.1378 - val_accuracy: 0.6091\n",
      "Epoch 00002: early stopping\n"
     ]
    },
    {
     "data": {
      "text/plain": [
       "<keras.callbacks.History at 0x2474c661640>"
      ]
     },
     "execution_count": 61,
     "metadata": {},
     "output_type": "execute_result"
    }
   ],
   "source": [
    "#Input layer\n",
    "input_layer = Input(shape=(784,))\n",
    "#Dense hidden layer\n",
    "layer1 = Dense(50,activation='sigmoid',kernel_initializer=tf.keras.initializers.glorot_normal(seed=30))(input_layer)\n",
    "#output layer\n",
    "output = Dense(10,activation='softmax',kernel_initializer=tf.keras.initializers.glorot_normal(seed=0))(layer1)\n",
    "#Creating a model\n",
    "model = Model(inputs=input_layer,outputs=output)\n",
    "\n",
    "#you can monitor any quantity (here i am monitoring val_loss), you can give any number for patience based on your need. \n",
    "#i am terminating training if my validation loss incresing at once than previous loss. so maintained 1. you can give min delta\n",
    "#an absolute change of less than min_delta, will count as no improvement. i maintained 0.35 because i don't want to run \n",
    "#so many epoch to see termination\n",
    "earlystop = EarlyStopping(monitor='val_loss', min_delta=0.35, patience=1, verbose=1)\n",
    "\n",
    "optimizer = tf.keras.optimizers.Adam(0.01)\n",
    "\n",
    "model.compile(optimizer=optimizer,\n",
    "              loss='categorical_crossentropy',metrics=['accuracy'])\n",
    "\n",
    "model.fit(X_train,Y_train,epochs=10,validation_data=(X_test,Y_test),batch_size=16,callbacks=[earlystop])"
   ]
  },
  {
   "cell_type": "markdown",
   "metadata": {
    "id": "05WyP1W2OMa9"
   },
   "source": [
    "It stopped at 2nd epoch only. You can use this early stopping to get best model than overfitted model."
   ]
  },
  {
   "cell_type": "markdown",
   "metadata": {
    "id": "AjQJADh8OMa-"
   },
   "source": [
    "## 2.2.3 LearningRateScheduler\n",
    "\n",
    "You can schedule learning rate for every epoch. You can decrease or increase the learning rate based on epoch number. "
   ]
  },
  {
   "cell_type": "code",
   "execution_count": 62,
   "metadata": {
    "id": "er-L_eZIOMa_"
   },
   "outputs": [],
   "source": [
    "from tensorflow.keras.callbacks import LearningRateScheduler"
   ]
  },
  {
   "cell_type": "code",
   "execution_count": 63,
   "metadata": {
    "id": "3YONlCwyOMbA"
   },
   "outputs": [],
   "source": [
    "def changeLearningRate(epoch):\n",
    "    #here we are performing exponential decay of the learning rate\n",
    "    initial_learningrate=0.1\n",
    "    changed = initial_learningrate*(1-0.1)**epoch\n",
    "    return changed"
   ]
  },
  {
   "cell_type": "code",
   "execution_count": 64,
   "metadata": {
    "id": "hS18HNhtOMbC"
   },
   "outputs": [],
   "source": [
    "changed_lr = []\n",
    "for i in range(1,50):\n",
    "    changed_lr.append(changeLearningRate(i))"
   ]
  },
  {
   "cell_type": "code",
   "execution_count": 65,
   "metadata": {
    "id": "T7JjoQ2aOMbE"
   },
   "outputs": [],
   "source": [
    "%matplotlib inline\n",
    "import matplotlib.pyplot as plt"
   ]
  },
  {
   "cell_type": "code",
   "execution_count": 66,
   "metadata": {
    "id": "PSdopgjfOMbG"
   },
   "outputs": [
    {
     "data": {
      "text/plain": [
       "Text(0.5, 0, 'epoch number')"
      ]
     },
     "execution_count": 66,
     "metadata": {},
     "output_type": "execute_result"
    },
    {
     "data": {
      "image/png": "[encoded data removed]",
      "text/plain": [
       "<Figure size 432x288 with 1 Axes>"
      ]
     },
     "metadata": {
      "needs_background": "light"
     },
     "output_type": "display_data"
    }
   ],
   "source": [
    "plt.plot(changed_lr)\n",
    "plt.ylabel('learning_rate')\n",
    "plt.xlabel('epoch number')"
   ]
  },
  {
   "cell_type": "markdown",
   "metadata": {
    "id": "YSvB3InnOMbH"
   },
   "source": [
    "If you check above figure, learning rate is decreasing if my epoch number is increasing. We are using same function to schedule our learning rate based on epoch number. You can write your own function or you can write custom call back to decrease the learning rate based on val_loss/acc. \n",
    "In the above function, we have implemented exponential decay with decay rate 0.1, you can check that \n",
    "<a href=\"https://mathbitsnotebook.com/Algebra2/Exponential/EXGrowthDecay.html\">here.</a>"
   ]
  },
  {
   "cell_type": "code",
   "execution_count": 67,
   "metadata": {
    "id": "vTZCQXQ_OMbH"
   },
   "outputs": [
    {
     "name": "stdout",
     "output_type": "stream",
     "text": [
      "\n",
      "Epoch 00001: LearningRateScheduler setting learning rate to 0.1.\n",
      "Epoch 1/3\n",
      "3750/3750 [==============================] - 8s 2ms/step - loss: 2.4952 - accuracy: 0.1820 - val_loss: 2.6586 - val_accuracy: 0.1374 - lr: 0.1000\n",
      "\n",
      "Epoch 00002: LearningRateScheduler setting learning rate to 0.09000000000000001.\n",
      "Epoch 2/3\n",
      "3750/3750 [==============================] - 7s 2ms/step - loss: 2.6480 - accuracy: 0.1048 - val_loss: 2.5727 - val_accuracy: 0.1040 - lr: 0.0900\n",
      "\n",
      "Epoch 00003: LearningRateScheduler setting learning rate to 0.08100000000000002.\n",
      "Epoch 3/3\n",
      "3750/3750 [==============================] - 8s 2ms/step - loss: 2.6219 - accuracy: 0.1042 - val_loss: 2.4952 - val_accuracy: 0.1141 - lr: 0.0810\n"
     ]
    },
    {
     "data": {
      "text/plain": [
       "<keras.callbacks.History at 0x2474e8cf2b0>"
      ]
     },
     "execution_count": 67,
     "metadata": {},
     "output_type": "execute_result"
    }
   ],
   "source": [
    "#Input layer\n",
    "input_layer = Input(shape=(784,))\n",
    "#Dense hidden layer\n",
    "layer1 = Dense(50,activation='sigmoid',kernel_initializer=tf.keras.initializers.glorot_normal(seed=30))(input_layer)\n",
    "#output layer\n",
    "output = Dense(10,activation='softmax',kernel_initializer=tf.keras.initializers.glorot_normal(seed=0))(layer1)\n",
    "#Creating a model\n",
    "model = Model(inputs=input_layer,outputs=output)\n",
    "\n",
    "lrschedule = LearningRateScheduler(changeLearningRate, verbose=1)\n",
    "\n",
    "model.compile(optimizer=tf.keras.optimizers.Adam(0.1),\n",
    "              loss='categorical_crossentropy',metrics=['accuracy'])\n",
    "\n",
    "model.fit(X_train,Y_train,epochs=3,validation_data=(X_test,Y_test),batch_size=16,callbacks=[lrschedule])"
   ]
  },
  {
   "cell_type": "markdown",
   "metadata": {
    "id": "fVm_fKElOMbK"
   },
   "source": [
    "## 2.2.4 ReduceLROnPlateau\n",
    "\n",
    "It is similar to EarlyStopping, you can reduce your Learning rate by some factor if my val_loss/acc is not improving. You can check the documentation <a href=\"https://www.tensorflow.org/api_docs/python/tf/keras/callbacks/ReduceLROnPlateau\">here.</a>"
   ]
  },
  {
   "cell_type": "markdown",
   "metadata": {
    "id": "V35jamIuOMbL"
   },
   "source": [
    "There are many pre-built call backs are available in Tensorflow, you can check those in <a href=\"https://www.tensorflow.org/api_docs/python/tf/keras/callbacks\">this</a> link.\n",
    "\n",
    "You can give as many callbacks you want while training the model as given below.</pre>"
   ]
  },
  {
   "cell_type": "code",
   "execution_count": 68,
   "metadata": {
    "id": "ts8yx-dwOMbO"
   },
   "outputs": [
    {
     "name": "stdout",
     "output_type": "stream",
     "text": [
      "\n",
      "Epoch 00001: LearningRateScheduler setting learning rate to 0.1.\n",
      "Epoch 1/5\n",
      "3747/3750 [============================>.] - ETA: 0s - loss: 2.4620 - accuracy: 0.1686\n",
      "Epoch 00001: val_loss improved from inf to 2.40858, saving model to model_save\\weights-01-0.1284.hdf5\n",
      "3750/3750 [==============================] - 8s 2ms/step - loss: 2.4620 - accuracy: 0.1686 - val_loss: 2.4086 - val_accuracy: 0.1284 - lr: 0.1000\n",
      "\n",
      "Epoch 00002: LearningRateScheduler setting learning rate to 0.09000000000000001.\n",
      "Epoch 2/5\n",
      "3725/3750 [============================>.] - ETA: 0s - loss: 2.2993 - accuracy: 0.2038\n",
      "Epoch 00002: val_loss improved from 2.40858 to 2.20040, saving model to model_save\\weights-02-0.1016.hdf5\n",
      "3750/3750 [==============================] - 7s 2ms/step - loss: 2.2978 - accuracy: 0.2044 - val_loss: 2.2004 - val_accuracy: 0.1016 - lr: 0.0900\n",
      "Epoch 00002: early stopping\n"
     ]
    },
    {
     "data": {
      "text/plain": [
       "<keras.callbacks.History at 0x2474f9efd30>"
      ]
     },
     "execution_count": 68,
     "metadata": {},
     "output_type": "execute_result"
    }
   ],
   "source": [
    "#Input layer\n",
    "input_layer = Input(shape=(784,))\n",
    "#Dense hidden layer\n",
    "layer1 = Dense(50,activation='sigmoid',kernel_initializer=tf.keras.initializers.glorot_normal(seed=30))(input_layer)\n",
    "#output layer\n",
    "output = Dense(10,activation='softmax',kernel_initializer=tf.keras.initializers.glorot_normal(seed=0))(layer1)\n",
    "#Creating a model\n",
    "model = Model(inputs=input_layer,outputs=output)\n",
    "\n",
    "#create a call back list\n",
    "lrschedule = LearningRateScheduler(changeLearningRate, verbose=0.1)\n",
    "earlystop = EarlyStopping(monitor='val_loss', min_delta=0.25, patience=1, verbose=1)\n",
    "filepath=\"model_save/weights-{epoch:02d}-{val_accuracy:.4f}.hdf5\"\n",
    "checkpoint = ModelCheckpoint(filepath=filepath, monitor='val_loss', verbose=1, \n",
    "                             save_best_only=True, mode='auto')\n",
    "\n",
    "\n",
    "# here we are creating a list with all the callbacks we want\n",
    "callback_list = [lrschedule, earlystop, checkpoint]\n",
    "\n",
    "\n",
    "model.compile(optimizer=tf.keras.optimizers.Adam(0.1),\n",
    "              loss='categorical_crossentropy',metrics=['accuracy'])\n",
    "\n",
    "model.fit(X_train,Y_train,epochs=5,validation_data=(X_test,Y_test),batch_size=16,callbacks=callback_list)"
   ]
  }
 ],
 "metadata": {
  "colab": {
   "collapsed_sections": [
    "0fjRvsmIOMYG",
    "vhFWsCP1OMY0",
    "_galZ10JOMZX",
    "luaCDJ_8OMZY",
    "z8dLCOEaOMZj",
    "OQayeY4wOMZ5",
    "_SArBwQROMaE"
   ],
   "name": "Call_Backs_Reference.ipynb",
   "provenance": []
  },
  "kernelspec": {
   "display_name": "Python 3 (ipykernel)",
   "language": "python",
   "name": "python3"
  },
  "language_info": {
   "codemirror_mode": {
    "name": "ipython",
    "version": 3
   },
   "file_extension": ".py",
   "mimetype": "text/x-python",
   "name": "python",
   "nbconvert_exporter": "python",
   "pygments_lexer": "ipython3",
   "version": "3.9.7"
  }
 },
 "nbformat": 4,
 "nbformat_minor": 1
}
