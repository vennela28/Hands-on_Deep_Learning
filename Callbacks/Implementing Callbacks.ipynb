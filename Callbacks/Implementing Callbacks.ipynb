{
 "cells": [
  {
   "cell_type": "markdown",
   "metadata": {
    "id": "V2ZRzYGsCSnt"
   },
   "source": [
    "\n",
    "### 1. Download the data from <a href='https://drive.google.com/file/d/15dCNcmKskcFVjs7R0ElQkR61Ex53uJpM/view?usp=sharing'>here</a>. You have to use data.csv file for this assignment\n",
    "### 2. Code the model to classify data like below image. You can use any number of units in your Dense layers.\n",
    "\n",
    "<img src='https://i.imgur.com/33ptOFy.png'>\n",
    "\n"
   ]
  },
  {
   "cell_type": "markdown",
   "metadata": {
    "id": "bg22rD7sDPDu"
   },
   "source": [
    "# 3. Writing Callbacks\n",
    "\n",
    "### Implement the following callbacks\n",
    "\n",
    "-  Write your own callback function that prints the micro F1 score and AUC score after each epoch. Do not use tf.keras.metrics for calculating AUC and F1 score.\n",
    "\n",
    "- Save your model at every epoch if your validation accuracy is improved from previous epoch. \n",
    "\n",
    "- You have to decay learning based on below conditions: \n",
    "            Condition1. If your validation accuracy at that epoch is less than previous epoch accuracy, decrease               the learning rate by 10%. \n",
    "            Condition2. For every 3rd epoch, decay your learning rate by 5%.\n",
    "        \n",
    "- If you are getting any NaN values(either weigths or loss) while training, you have to terminate your training. \n",
    "\n",
    "- You have to stop the training if your validation accuracy is not increased in last 2 epochs.\n",
    "\n",
    "- Use tensorboard for every model and analyse your scalar plots and histograms. (you need to upload the screenshots and write the observations for each model for evaluation)."
   ]
  },
  {
   "cell_type": "markdown",
   "metadata": {},
   "source": [
    "### Importing libraries"
   ]
  },
  {
   "cell_type": "code",
   "execution_count": 1,
   "metadata": {},
   "outputs": [],
   "source": [
    "import warnings\n",
    "warnings.filterwarnings('ignore')\n",
    "\n",
    "import numpy as np\n",
    "import pandas as pd\n",
    "from sklearn.model_selection import train_test_split\n",
    "from sklearn.metrics import roc_auc_score, f1_score\n",
    "\n",
    "import tensorflow as tf\n",
    "from tensorflow import keras\n",
    "from tensorflow.keras.layers import Dense, Input, Activation\n",
    "from tensorflow.keras.models import Model\n",
    "from tensorflow.keras.callbacks import *\n",
    "import random as rn\n",
    "\n",
    "import datetime, os"
   ]
  },
  {
   "cell_type": "markdown",
   "metadata": {},
   "source": [
    "##### Loading the data"
   ]
  },
  {
   "cell_type": "code",
   "execution_count": 2,
   "metadata": {},
   "outputs": [
    {
     "data": {
      "text/plain": [
       "(20000, 3)"
      ]
     },
     "execution_count": 2,
     "metadata": {},
     "output_type": "execute_result"
    }
   ],
   "source": [
    "data = pd.read_csv(\"data.csv\")\n",
    "data.shape"
   ]
  },
  {
   "cell_type": "code",
   "execution_count": 3,
   "metadata": {},
   "outputs": [
    {
     "data": {
      "text/html": [
       "<div>\n",
       "<style scoped>\n",
       "    .dataframe tbody tr th:only-of-type {\n",
       "        vertical-align: middle;\n",
       "    }\n",
       "\n",
       "    .dataframe tbody tr th {\n",
       "        vertical-align: top;\n",
       "    }\n",
       "\n",
       "    .dataframe thead th {\n",
       "        text-align: right;\n",
       "    }\n",
       "</style>\n",
       "<table border=\"1\" class=\"dataframe\">\n",
       "  <thead>\n",
       "    <tr style=\"text-align: right;\">\n",
       "      <th></th>\n",
       "      <th>f1</th>\n",
       "      <th>f2</th>\n",
       "      <th>label</th>\n",
       "    </tr>\n",
       "  </thead>\n",
       "  <tbody>\n",
       "    <tr>\n",
       "      <th>0</th>\n",
       "      <td>0.450564</td>\n",
       "      <td>1.074305</td>\n",
       "      <td>0.0</td>\n",
       "    </tr>\n",
       "    <tr>\n",
       "      <th>1</th>\n",
       "      <td>0.085632</td>\n",
       "      <td>0.967682</td>\n",
       "      <td>0.0</td>\n",
       "    </tr>\n",
       "    <tr>\n",
       "      <th>2</th>\n",
       "      <td>0.117326</td>\n",
       "      <td>0.971521</td>\n",
       "      <td>1.0</td>\n",
       "    </tr>\n",
       "    <tr>\n",
       "      <th>3</th>\n",
       "      <td>0.982179</td>\n",
       "      <td>-0.380408</td>\n",
       "      <td>0.0</td>\n",
       "    </tr>\n",
       "    <tr>\n",
       "      <th>4</th>\n",
       "      <td>-0.720352</td>\n",
       "      <td>0.955850</td>\n",
       "      <td>0.0</td>\n",
       "    </tr>\n",
       "  </tbody>\n",
       "</table>\n",
       "</div>"
      ],
      "text/plain": [
       "         f1        f2  label\n",
       "0  0.450564  1.074305    0.0\n",
       "1  0.085632  0.967682    0.0\n",
       "2  0.117326  0.971521    1.0\n",
       "3  0.982179 -0.380408    0.0\n",
       "4 -0.720352  0.955850    0.0"
      ]
     },
     "execution_count": 3,
     "metadata": {},
     "output_type": "execute_result"
    }
   ],
   "source": [
    "data.head()"
   ]
  },
  {
   "cell_type": "code",
   "execution_count": 4,
   "metadata": {},
   "outputs": [],
   "source": [
    "X = data.drop(['label'], axis = 1).values\n",
    "Y = data['label'].values"
   ]
  },
  {
   "cell_type": "markdown",
   "metadata": {},
   "source": [
    "#### Visualizing the data"
   ]
  },
  {
   "cell_type": "code",
   "execution_count": 5,
   "metadata": {},
   "outputs": [
    {
     "data": {
      "image/png": "[encoded data removed]",
      "text/plain": [
       "<Figure size 432x288 with 1 Axes>"
      ]
     },
     "metadata": {
      "needs_background": "light"
     },
     "output_type": "display_data"
    }
   ],
   "source": [
    "import matplotlib.pyplot as plt\n",
    "plt.scatter(data['f1'], data['f2'], c = Y)\n",
    "plt.show()"
   ]
  },
  {
   "cell_type": "code",
   "execution_count": 6,
   "metadata": {},
   "outputs": [
    {
     "data": {
      "text/plain": [
       "10000"
      ]
     },
     "execution_count": 6,
     "metadata": {},
     "output_type": "execute_result"
    }
   ],
   "source": [
    "len(data[data.label == 1.0])"
   ]
  },
  {
   "cell_type": "code",
   "execution_count": 7,
   "metadata": {},
   "outputs": [
    {
     "data": {
      "text/plain": [
       "10000"
      ]
     },
     "execution_count": 7,
     "metadata": {},
     "output_type": "execute_result"
    }
   ],
   "source": [
    "len(data[data.label == 0.0])"
   ]
  },
  {
   "cell_type": "markdown",
   "metadata": {},
   "source": [
    "##### The dataset given is balanced as the distribution across the class label is the same."
   ]
  },
  {
   "cell_type": "code",
   "execution_count": 8,
   "metadata": {},
   "outputs": [
    {
     "name": "stdout",
     "output_type": "stream",
     "text": [
      "(13400, 2)\n",
      "(13400,)\n",
      "(6600, 2)\n",
      "(6600,)\n"
     ]
    }
   ],
   "source": [
    "X_train, X_test, y_train, y_test = train_test_split(X, Y, test_size = 0.33, stratify = Y)\n",
    "\n",
    "print(X_train.shape)\n",
    "print(y_train.shape)\n",
    "print(X_test.shape)\n",
    "print(y_test.shape)"
   ]
  },
  {
   "cell_type": "markdown",
   "metadata": {},
   "source": [
    "##### Reference: https://stackoverflow.com/questions/47676248/accessing-validation-data-within-a-custom-callback"
   ]
  },
  {
   "cell_type": "code",
   "execution_count": 9,
   "metadata": {},
   "outputs": [],
   "source": [
    "class Metrics(tf.keras.callbacks.Callback):\n",
    "    \n",
    "    def __init__(self):\n",
    "        self.validation_data = (X_test, y_test)\n",
    "        \n",
    "    def on_train_begin(self, logs = {}):\n",
    "        self.val_f1s = []  \n",
    "        \n",
    "    def on_epoch_end(self, epoch, logs = {}):\n",
    "        \n",
    "        # Actual Y label\n",
    "        y_test = self.validation_data[1]\n",
    "        \n",
    "        # Predicted Y label\n",
    "        y_test_pred = (np.asarray(self.model.predict(self.validation_data[0]))).round()\n",
    "        \n",
    "        # Micro F1-score\n",
    "        val_f1 = f1_score(y_test, y_test_pred.round(), average = 'micro')\n",
    "        \n",
    "        # AUC Score\n",
    "        auc_val = roc_auc_score(y_test, y_test_pred)\n",
    "        \n",
    "        self.val_f1s.append(val_f1)  \n",
    "        \n",
    "        print(\" -F1 score:\", val_f1, \"-ROCValue:\", auc_val)"
   ]
  },
  {
   "cell_type": "code",
   "execution_count": 10,
   "metadata": {},
   "outputs": [],
   "source": [
    "class TerminateNaN(tf.keras.callbacks.Callback): \n",
    "    \n",
    "    def on_epoch_end(self, epoch, logs = {}):\n",
    "        \n",
    "        # getting any NaN values for loss while training, terminate training\n",
    "        loss = logs.get('loss')\n",
    "        if loss is not None:\n",
    "            if np.isnan(loss) or np.isinf(loss):\n",
    "                print(\"Invalid loss and terminated at epoch {}\".format(epoch))\n",
    "                self.model.stop_training = True\n",
    "                \n",
    "        # getting any NaN values for weights while training, terminate training\n",
    "        model_weights = self.model.get_weights()\n",
    "        if model_weights is not None:\n",
    "            if np.any([np.any(np.isnan(x)) for x in model_weights]):\n",
    "                print(\"Invalid weight and terminated at epoch {}\".format(epoch))\n",
    "                self.model.stop_training = True"
   ]
  },
  {
   "cell_type": "markdown",
   "metadata": {},
   "source": [
    "##### Adaptive Learning "
   ]
  },
  {
   "cell_type": "code",
   "execution_count": 11,
   "metadata": {},
   "outputs": [],
   "source": [
    "def lr_scheduler(epoch, lr):\n",
    "    decay_rate = .95\n",
    "    decay_step = 3\n",
    "    if (epoch + 1) % decay_step == 0 :\n",
    "        return lr * decay_rate\n",
    "    return lr"
   ]
  },
  {
   "cell_type": "code",
   "execution_count": 12,
   "metadata": {},
   "outputs": [],
   "source": [
    "# Load the TensorBoard notebook extension\n",
    "%load_ext tensorboard"
   ]
  },
  {
   "cell_type": "markdown",
   "metadata": {
    "id": "xCL3OGS0DsUa"
   },
   "source": [
    "___Model-1___\n",
    "\n",
    "1. Use tanh as an activation for every layer except output layer.\n",
    "\n",
    "2. Use SGD with momentum as optimizer.\n",
    "\n",
    "3. Use RandomUniform(0,1) as initializer.\n",
    "\n",
    "4. Analyze your output and training process. "
   ]
  },
  {
   "cell_type": "code",
   "execution_count": 13,
   "metadata": {},
   "outputs": [],
   "source": [
    "initializer = keras.initializers.RandomUniform(minval = 0., maxval = 1.)\n",
    "\n",
    "#Input layer\n",
    "input_layer = Input(shape=(2,))\n",
    "\n",
    "#Dense hidden layer\n",
    "layer1 = Dense(64, activation = 'tanh', kernel_initializer = initializer)(input_layer)\n",
    "layer2 = Dense(32, activation = 'tanh', kernel_initializer = initializer)(layer1)\n",
    "layer3 = Dense(16, activation = 'tanh', kernel_initializer = initializer)(layer2)\n",
    "layer4 = Dense(8, activation = 'tanh', kernel_initializer = initializer)(layer3)\n",
    "layer5 = Dense(4, activation = 'tanh', kernel_initializer = initializer)(layer4)\n",
    "\n",
    "#output layer\n",
    "output = Dense(1, activation = 'sigmoid', kernel_initializer = initializer)(layer5)\n",
    "\n",
    "#Creating a model\n",
    "model_1 = Model(inputs = input_layer, outputs = output)"
   ]
  },
  {
   "cell_type": "code",
   "execution_count": 14,
   "metadata": {
    "id": "CSw5K9mrDzRq"
   },
   "outputs": [],
   "source": [
    "# Filepath to save the best model\n",
    "filepath = \"model1_save/weights-{epoch:02d}-{val_accuracy:.4f}.hdf5\"\n",
    "\n",
    "# Reduce learning rate when a metric has stopped improving.\n",
    "reduce_lr = ReduceLROnPlateau(monitor = 'val_accuracy', factor = 0.9, patience = 1, min_lr = 0.0001)\n",
    "\n",
    "# Adaptive Learning \n",
    "lrschedule = LearningRateScheduler(lr_scheduler, verbose = 0)\n",
    "\n",
    "# Save the best model using the checkpoint\n",
    "checkpoint = ModelCheckpoint(filepath = filepath, monitor = 'val_accuracy', verbose = 1, save_best_only = True, mode = 'auto')\n",
    "\n",
    "# Stop training when a monitored metric has stopped improving\n",
    "earlystop = EarlyStopping(monitor = 'val_accuracy', min_delta = 0.35, patience = 2, verbose = 1)\n",
    "\n",
    "# Callback that terminates training when a NaN loss/weights is encountered to avoid overfitting the model.\n",
    "terminate = TerminateNaN()   \n",
    "\n",
    "# Calculate micro F-1 score and AUC score after each epoch\n",
    "metrics = Metrics()\n",
    "\n",
    "logdir = os.path.join(\"model1/logs\", datetime.datetime.now().strftime(\"%Y%m%d-%H%M%S\"))\n",
    "\n",
    "tensorboard_callback = tf.keras.callbacks.TensorBoard(logdir, histogram_freq = 1)"
   ]
  },
  {
   "cell_type": "markdown",
   "metadata": {},
   "source": [
    "##### Reference: https://keras.io/api/optimizers/sgd/"
   ]
  },
  {
   "cell_type": "code",
   "execution_count": 15,
   "metadata": {},
   "outputs": [
    {
     "name": "stdout",
     "output_type": "stream",
     "text": [
      "Epoch 1/15\n",
      "  1/419 [..............................] - ETA: 4:39 - loss: 1.0182 - accuracy: 0.5000WARNING:tensorflow:Callback method `on_train_batch_end` is slow compared to the batch time (batch time: 0.0045s vs `on_train_batch_end` time: 0.0082s). Check your callbacks.\n",
      "385/419 [==========================>...] - ETA: 0s - loss: 0.7029 - accuracy: 0.5053\n",
      "Epoch 00001: val_accuracy improved from -inf to 0.50561, saving model to model1_save\\weights-01-0.5056.hdf5\n",
      " -F1 score: 0.5056060606060606 -ROCValue: 0.5056060606060606\n",
      "419/419 [==============================] - 3s 6ms/step - loss: 0.7023 - accuracy: 0.5066 - val_loss: 0.7051 - val_accuracy: 0.5056 - lr: 0.0100\n",
      "Epoch 2/15\n",
      "399/419 [===========================>..] - ETA: 0s - loss: 0.6958 - accuracy: 0.4960\n",
      "Epoch 00002: val_accuracy did not improve from 0.50561\n",
      " -F1 score: 0.49863636363636366 -ROCValue: 0.49863636363636366\n",
      "419/419 [==============================] - 2s 4ms/step - loss: 0.6957 - accuracy: 0.4966 - val_loss: 0.6950 - val_accuracy: 0.4986 - lr: 0.0090\n",
      "Epoch 3/15\n",
      "413/419 [============================>.] - ETA: 0s - loss: 0.6947 - accuracy: 0.5001\n",
      "Epoch 00003: val_accuracy did not improve from 0.50561\n",
      " -F1 score: 0.5021212121212121 -ROCValue: 0.5021212121212121\n",
      "419/419 [==============================] - 1s 4ms/step - loss: 0.6947 - accuracy: 0.4995 - val_loss: 0.6932 - val_accuracy: 0.5021 - lr: 0.0077\n",
      "Epoch 00003: early stopping\n"
     ]
    },
    {
     "data": {
      "text/plain": [
       "<keras.callbacks.History at 0x177119b7160>"
      ]
     },
     "execution_count": 15,
     "metadata": {},
     "output_type": "execute_result"
    }
   ],
   "source": [
    "optimizer = tf.keras.optimizers.SGD(learning_rate = 0.01, momentum = 0.95, nesterov = False, name = 'SGD')\n",
    "\n",
    "model_1.compile(optimizer, loss = 'BinaryCrossentropy', metrics = ['accuracy'])\n",
    "\n",
    "model_1.fit(x = X_train, y = y_train, epochs = 15, validation_data = (X_test, y_test), \n",
    "            callbacks = [reduce_lr, lrschedule, checkpoint, earlystop, terminate, metrics, tensorboard_callback])"
   ]
  },
  {
   "cell_type": "code",
   "execution_count": 16,
   "metadata": {},
   "outputs": [
    {
     "data": {
      "text/plain": [
       "[0.5056060606060606, 0.49863636363636366, 0.5021212121212121]"
      ]
     },
     "execution_count": 16,
     "metadata": {},
     "output_type": "execute_result"
    }
   ],
   "source": [
    "metrics.val_f1s"
   ]
  },
  {
   "cell_type": "code",
   "execution_count": 17,
   "metadata": {
    "scrolled": false
   },
   "outputs": [
    {
     "data": {
      "text/html": [
       "\n",
       "      <iframe id=\"tensorboard-frame-589b9601e0b554f0\" width=\"100%\" height=\"800\" frameborder=\"0\">\n",
       "      </iframe>\n",
       "      <script>\n",
       "        (function() {\n",
       "          const frame = document.getElementById(\"tensorboard-frame-589b9601e0b554f0\");\n",
       "          const url = new URL(\"/\", window.location);\n",
       "          const port = 6006;\n",
       "          if (port) {\n",
       "            url.port = port;\n",
       "          }\n",
       "          frame.src = url;\n",
       "        })();\n",
       "      </script>\n",
       "    "
      ],
      "text/plain": [
       "<IPython.core.display.HTML object>"
      ]
     },
     "metadata": {},
     "output_type": "display_data"
    }
   ],
   "source": [
    "%tensorboard --logdir model1/logs/20220214-210955/"
   ]
  },
  {
   "cell_type": "markdown",
   "metadata": {
    "id": "CRpsCx3NEAtx"
   },
   "source": [
    "___Model-2___\n",
    "\n",
    "1. Use relu as an activation for every layer except output layer.\n",
    "\n",
    "2. Use SGD with momentum as optimizer.\n",
    "\n",
    "3. Use RandomUniform(0,1) as initializer.\n",
    "\n",
    "4. Analyze your output and training process. "
   ]
  },
  {
   "cell_type": "code",
   "execution_count": 18,
   "metadata": {
    "id": "btKuy2SWEFZo"
   },
   "outputs": [],
   "source": [
    "initializer = keras.initializers.RandomUniform(minval = 0., maxval = 1.)\n",
    "\n",
    "#Input layer\n",
    "input_layer = Input(shape=(2,))\n",
    "\n",
    "#Dense hidden layer\n",
    "layer1 = Dense(64, activation = 'relu', kernel_initializer = initializer)(input_layer)\n",
    "layer2 = Dense(32, activation = 'relu', kernel_initializer = initializer)(layer1)\n",
    "layer3 = Dense(16, activation = 'relu', kernel_initializer = initializer)(layer2)\n",
    "layer4 = Dense(8, activation = 'relu', kernel_initializer = initializer)(layer3)\n",
    "layer5 = Dense(4, activation = 'relu', kernel_initializer = initializer)(layer4)\n",
    "\n",
    "#output layer\n",
    "output = Dense(1, activation = 'sigmoid', kernel_initializer = initializer)(layer5)\n",
    "\n",
    "#Creating a model\n",
    "model_2 = Model(inputs = input_layer, outputs = output)"
   ]
  },
  {
   "cell_type": "code",
   "execution_count": 19,
   "metadata": {},
   "outputs": [],
   "source": [
    "# Filepath to save the best model\n",
    "filepath = \"model2_save/weights-{epoch:02d}-{val_accuracy:.4f}.hdf5\"\n",
    "\n",
    "# Reduce learning rate when a metric has stopped improving.\n",
    "reduce_lr = ReduceLROnPlateau(monitor = 'val_accuracy', factor = 0.9, patience = 1, min_lr = 0.0001)\n",
    "\n",
    "# Adaptive Learning \n",
    "lrschedule = LearningRateScheduler(lr_scheduler, verbose = 0)\n",
    "\n",
    "# Save the best model using the checkpoint\n",
    "checkpoint = ModelCheckpoint(filepath = filepath, monitor = 'val_accuracy', verbose = 1, save_best_only = True, mode = 'auto')\n",
    "\n",
    "# Stop training when a monitored metric has stopped improving\n",
    "earlystop = EarlyStopping(monitor = 'val_accuracy', min_delta = 0.35, patience = 2, verbose = 1)\n",
    "\n",
    "# Callback that terminates training when a NaN loss/weights is encountered to avoid overfitting the model.\n",
    "terminate = TerminateNaN()   \n",
    "\n",
    "# Calculate micro F-1 score and AUC score after each epoch\n",
    "metrics = Metrics()\n",
    "\n",
    "logdir = os.path.join(\"model2/logs\", datetime.datetime.now().strftime(\"%Y%m%d-%H%M%S\"))\n",
    "\n",
    "tensorboard_callback = tf.keras.callbacks.TensorBoard(logdir, histogram_freq = 1)"
   ]
  },
  {
   "cell_type": "markdown",
   "metadata": {},
   "source": [
    "##### Reference: https://keras.io/api/optimizers/sgd/"
   ]
  },
  {
   "cell_type": "code",
   "execution_count": 20,
   "metadata": {
    "id": "h-3tV-KIEFc8"
   },
   "outputs": [
    {
     "name": "stdout",
     "output_type": "stream",
     "text": [
      "Epoch 1/15\n",
      "  1/419 [..............................] - ETA: 5:05 - loss: 4358.8281 - accuracy: 0.5625WARNING:tensorflow:Callback method `on_train_batch_end` is slow compared to the batch time (batch time: 0.0043s vs `on_train_batch_end` time: 0.0078s). Check your callbacks.\n",
      "410/419 [============================>.] - ETA: 0s - loss: 11.3232 - accuracy: 0.5014\n",
      "Epoch 00001: val_accuracy improved from -inf to 0.50000, saving model to model2_save\\weights-01-0.5000.hdf5\n",
      " -F1 score: 0.5 -ROCValue: 0.5\n",
      "419/419 [==============================] - 3s 5ms/step - loss: 11.1011 - accuracy: 0.5004 - val_loss: 0.6932 - val_accuracy: 0.5000 - lr: 0.0100\n",
      "Epoch 2/15\n",
      "416/419 [============================>.] - ETA: 0s - loss: 0.6939 - accuracy: 0.4926\n",
      "Epoch 00002: val_accuracy did not improve from 0.50000\n",
      " -F1 score: 0.5 -ROCValue: 0.5\n",
      "419/419 [==============================] - 2s 4ms/step - loss: 0.6939 - accuracy: 0.4927 - val_loss: 0.6931 - val_accuracy: 0.5000 - lr: 0.0090\n",
      "Epoch 3/15\n",
      "405/419 [===========================>..] - ETA: 0s - loss: 0.6934 - accuracy: 0.4957\n",
      "Epoch 00003: val_accuracy did not improve from 0.50000\n",
      " -F1 score: 0.5 -ROCValue: 0.5\n",
      "419/419 [==============================] - 2s 5ms/step - loss: 0.6934 - accuracy: 0.4964 - val_loss: 0.6933 - val_accuracy: 0.5000 - lr: 0.0077\n",
      "Epoch 00003: early stopping\n"
     ]
    },
    {
     "data": {
      "text/plain": [
       "<keras.callbacks.History at 0x17712fbc610>"
      ]
     },
     "execution_count": 20,
     "metadata": {},
     "output_type": "execute_result"
    }
   ],
   "source": [
    "optimizer = tf.keras.optimizers.SGD(learning_rate = 0.01, momentum = 0.95, nesterov = False, name = 'SGD')\n",
    "\n",
    "model_2.compile(optimizer, loss = 'BinaryCrossentropy', metrics = ['accuracy'])\n",
    "\n",
    "model_2.fit(x = X_train, y = y_train, epochs = 15, validation_data = (X_test, y_test), \n",
    "            callbacks = [reduce_lr, lrschedule, checkpoint, earlystop, terminate, metrics, tensorboard_callback])"
   ]
  },
  {
   "cell_type": "code",
   "execution_count": 21,
   "metadata": {},
   "outputs": [
    {
     "data": {
      "text/plain": [
       "[0.5, 0.5, 0.5]"
      ]
     },
     "execution_count": 21,
     "metadata": {},
     "output_type": "execute_result"
    }
   ],
   "source": [
    "metrics.val_f1s"
   ]
  },
  {
   "cell_type": "code",
   "execution_count": 22,
   "metadata": {
    "scrolled": true
   },
   "outputs": [
    {
     "data": {
      "text/html": [
       "\n",
       "      <iframe id=\"tensorboard-frame-c4df2a110ca1c2e0\" width=\"100%\" height=\"800\" frameborder=\"0\">\n",
       "      </iframe>\n",
       "      <script>\n",
       "        (function() {\n",
       "          const frame = document.getElementById(\"tensorboard-frame-c4df2a110ca1c2e0\");\n",
       "          const url = new URL(\"/\", window.location);\n",
       "          const port = 6006;\n",
       "          if (port) {\n",
       "            url.port = port;\n",
       "          }\n",
       "          frame.src = url;\n",
       "        })();\n",
       "      </script>\n",
       "    "
      ],
      "text/plain": [
       "<IPython.core.display.HTML object>"
      ]
     },
     "metadata": {},
     "output_type": "display_data"
    }
   ],
   "source": [
    "%tensorboard --logdir model2/logs/20220214-211155/"
   ]
  },
  {
   "cell_type": "markdown",
   "metadata": {
    "id": "O1e2VaqfEEDE"
   },
   "source": [
    "___Model-3___\n",
    "\n",
    "1. Use relu as an activation for every layer except output layer.\n",
    "\n",
    "2. Use SGD with momentum as optimizer.\n",
    "\n",
    "3. Use HeUniform() as initializer.\n",
    "\n",
    "4. Analyze your output and training process. "
   ]
  },
  {
   "cell_type": "code",
   "execution_count": 23,
   "metadata": {
    "id": "N2M4q3LYEF_1"
   },
   "outputs": [],
   "source": [
    "initializer = tf.keras.initializers.HeUniform()\n",
    "\n",
    "#Input layer\n",
    "input_layer = Input(shape=(2,))\n",
    "\n",
    "#Dense hidden layer\n",
    "layer1 = Dense(64, activation = 'relu', kernel_initializer = initializer)(input_layer)\n",
    "layer2 = Dense(32, activation = 'relu', kernel_initializer = initializer)(layer1)\n",
    "layer3 = Dense(16, activation = 'relu', kernel_initializer = initializer)(layer2)\n",
    "layer4 = Dense(8, activation = 'relu', kernel_initializer = initializer)(layer3)\n",
    "layer5 = Dense(4, activation = 'relu', kernel_initializer = initializer)(layer4)\n",
    "\n",
    "#output layer\n",
    "output = Dense(1, activation = 'sigmoid', kernel_initializer = initializer)(layer5)\n",
    "\n",
    "#Creating a model\n",
    "model_3 = Model(inputs = input_layer, outputs = output)"
   ]
  },
  {
   "cell_type": "code",
   "execution_count": 24,
   "metadata": {},
   "outputs": [],
   "source": [
    "# Filepath to save the best model\n",
    "filepath = \"model3_save/weights-{epoch:02d}-{val_accuracy:.4f}.hdf5\"\n",
    "\n",
    "# Reduce learning rate when a metric has stopped improving.\n",
    "reduce_lr = ReduceLROnPlateau(monitor = 'val_accuracy', factor = 0.9, patience = 1, min_lr = 0.0001)\n",
    "\n",
    "# Adaptive Learning \n",
    "lrschedule = LearningRateScheduler(lr_scheduler, verbose = 0)\n",
    "\n",
    "# Save the best model using the checkpoint\n",
    "checkpoint = ModelCheckpoint(filepath = filepath, monitor = 'val_accuracy', verbose = 1, save_best_only = True, mode = 'auto')\n",
    "\n",
    "# Stop training when a monitored metric has stopped improving\n",
    "earlystop = EarlyStopping(monitor = 'val_accuracy', min_delta = 0.35, patience = 2, verbose = 1)\n",
    "\n",
    "# Callback that terminates training when a NaN loss/weights is encountered to avoid overfitting the model.\n",
    "terminate = TerminateNaN()   \n",
    "\n",
    "# Calculate micro F-1 score and AUC score after each epoch\n",
    "metrics = Metrics()\n",
    "\n",
    "logdir = os.path.join(\"model3/logs\", datetime.datetime.now().strftime(\"%Y%m%d-%H%M%S\"))\n",
    "\n",
    "tensorboard_callback = tf.keras.callbacks.TensorBoard(logdir, histogram_freq = 1)"
   ]
  },
  {
   "cell_type": "markdown",
   "metadata": {},
   "source": [
    "##### Reference: https://keras.io/api/optimizers/sgd/"
   ]
  },
  {
   "cell_type": "code",
   "execution_count": 25,
   "metadata": {
    "id": "WOaQiRbZEGDU"
   },
   "outputs": [
    {
     "name": "stdout",
     "output_type": "stream",
     "text": [
      "Epoch 1/15\n",
      "  1/419 [..............................] - ETA: 4:05 - loss: 1.0961 - accuracy: 0.4688WARNING:tensorflow:Callback method `on_train_batch_end` is slow compared to the batch time (batch time: 0.0036s vs `on_train_batch_end` time: 0.0080s). Check your callbacks.\n",
      "419/419 [==============================] - ETA: 0s - loss: 0.6489 - accuracy: 0.6160\n",
      "Epoch 00001: val_accuracy improved from -inf to 0.66773, saving model to model3_save\\weights-01-0.6677.hdf5\n",
      " -F1 score: 0.6677272727272727 -ROCValue: 0.6677272727272727\n",
      "419/419 [==============================] - 2s 4ms/step - loss: 0.6489 - accuracy: 0.6160 - val_loss: 0.6109 - val_accuracy: 0.6677 - lr: 0.0100\n",
      "Epoch 2/15\n",
      "394/419 [===========================>..] - ETA: 0s - loss: 0.6218 - accuracy: 0.6518\n",
      "Epoch 00002: val_accuracy improved from 0.66773 to 0.67455, saving model to model3_save\\weights-02-0.6745.hdf5\n",
      " -F1 score: 0.6745454545454546 -ROCValue: 0.6745454545454546\n",
      "419/419 [==============================] - 2s 4ms/step - loss: 0.6208 - accuracy: 0.6520 - val_loss: 0.6024 - val_accuracy: 0.6745 - lr: 0.0100\n",
      "Epoch 3/15\n",
      "411/419 [============================>.] - ETA: 0s - loss: 0.6126 - accuracy: 0.6599 ETA: 0s - loss: 0.6174 \n",
      "Epoch 00003: val_accuracy did not improve from 0.67455\n",
      " -F1 score: 0.6639393939393939 -ROCValue: 0.6639393939393939\n",
      "419/419 [==============================] - 2s 4ms/step - loss: 0.6128 - accuracy: 0.6604 - val_loss: 0.6096 - val_accuracy: 0.6639 - lr: 0.0085\n",
      "Epoch 00003: early stopping\n"
     ]
    },
    {
     "data": {
      "text/plain": [
       "<keras.callbacks.History at 0x1771400a190>"
      ]
     },
     "execution_count": 25,
     "metadata": {},
     "output_type": "execute_result"
    }
   ],
   "source": [
    "optimizer = tf.keras.optimizers.SGD(learning_rate = 0.01, momentum = 0.95, nesterov = False, name = 'SGD')\n",
    "\n",
    "model_3.compile(optimizer, loss = 'BinaryCrossentropy', metrics = ['accuracy'])\n",
    "\n",
    "model_3.fit(x = X_train, y = y_train, epochs = 15, validation_data = (X_test, y_test), \n",
    "            callbacks = [reduce_lr, lrschedule, checkpoint, earlystop, terminate, metrics, tensorboard_callback])"
   ]
  },
  {
   "cell_type": "code",
   "execution_count": 26,
   "metadata": {},
   "outputs": [
    {
     "data": {
      "text/plain": [
       "[0.6677272727272727, 0.6745454545454546, 0.6639393939393939]"
      ]
     },
     "execution_count": 26,
     "metadata": {},
     "output_type": "execute_result"
    }
   ],
   "source": [
    "metrics.val_f1s"
   ]
  },
  {
   "cell_type": "code",
   "execution_count": 27,
   "metadata": {
    "scrolled": true
   },
   "outputs": [
    {
     "data": {
      "text/html": [
       "\n",
       "      <iframe id=\"tensorboard-frame-3c4d154b9a31d768\" width=\"100%\" height=\"800\" frameborder=\"0\">\n",
       "      </iframe>\n",
       "      <script>\n",
       "        (function() {\n",
       "          const frame = document.getElementById(\"tensorboard-frame-3c4d154b9a31d768\");\n",
       "          const url = new URL(\"/\", window.location);\n",
       "          const port = 6006;\n",
       "          if (port) {\n",
       "            url.port = port;\n",
       "          }\n",
       "          frame.src = url;\n",
       "        })();\n",
       "      </script>\n",
       "    "
      ],
      "text/plain": [
       "<IPython.core.display.HTML object>"
      ]
     },
     "metadata": {},
     "output_type": "display_data"
    }
   ],
   "source": [
    "%tensorboard --logdir model3/logs/20220214-211243/"
   ]
  },
  {
   "cell_type": "markdown",
   "metadata": {
    "id": "w41Y3TFENCXk"
   },
   "source": [
    "___Model-4___\n",
    "\n",
    "Used _relu_ as an activation for every layer except output layer, _SGD with momentum_ as optimizer, _HeUniform()_ as initializer by changing the number of connections between the neurons in every layer."
   ]
  },
  {
   "cell_type": "code",
   "execution_count": 28,
   "metadata": {
    "id": "4agdXzB-DqOj"
   },
   "outputs": [],
   "source": [
    "initializer = tf.keras.initializers.HeUniform()\n",
    "\n",
    "#Input layer\n",
    "input_layer = Input(shape=(2,))\n",
    "\n",
    "#Dense hidden layer\n",
    "layer1 = Dense(64, activation = 'relu', kernel_initializer = initializer)(input_layer)\n",
    "layer2 = Dense(32, activation = 'relu', kernel_initializer = initializer)(layer1)\n",
    "layer3 = Dense(16, activation = 'relu', kernel_initializer = initializer)(layer2)\n",
    "layer4 = Dense(8, activation = 'relu', kernel_initializer = initializer)(layer3)\n",
    "layer5 = Dense(4, activation = 'relu', kernel_initializer = initializer)(layer4)\n",
    "\n",
    "#output layer\n",
    "output = Dense(1, activation = 'sigmoid', kernel_initializer = initializer)(layer5)\n",
    "\n",
    "#Creating a model\n",
    "model_4 = Model(inputs = input_layer, outputs = output)"
   ]
  },
  {
   "cell_type": "code",
   "execution_count": 29,
   "metadata": {},
   "outputs": [],
   "source": [
    "# Filepath to save the best model\n",
    "filepath = \"model4_save/weights-{epoch:02d}-{val_accuracy:.4f}.hdf5\"\n",
    "\n",
    "# Reduce learning rate when a metric has stopped improving.\n",
    "reduce_lr = ReduceLROnPlateau(monitor = 'val_accuracy', factor = 0.9, patience = 1, min_lr = 0.0001)\n",
    "\n",
    "# Adaptive Learning \n",
    "lrschedule = LearningRateScheduler(lr_scheduler, verbose = 0)\n",
    "\n",
    "# Save the best model using the checkpoint\n",
    "checkpoint = ModelCheckpoint(filepath = filepath, monitor = 'val_accuracy', verbose = 1, save_best_only = True, mode = 'auto')\n",
    "\n",
    "# Stop training when a monitored metric has stopped improving\n",
    "earlystop = EarlyStopping(monitor = 'val_accuracy', min_delta = 0.35, patience = 2, verbose = 1)\n",
    "\n",
    "# Callback that terminates training when a NaN loss/weights is encountered to avoid overfitting the model.\n",
    "terminate = TerminateNaN()   \n",
    "\n",
    "# Calculate micro F-1 score and AUC score after each epoch\n",
    "metrics = Metrics()\n",
    "\n",
    "logdir = os.path.join(\"model4/logs\", datetime.datetime.now().strftime(\"%Y%m%d-%H%M%S\"))\n",
    "\n",
    "tensorboard_callback = tf.keras.callbacks.TensorBoard(logdir, histogram_freq = 1)"
   ]
  },
  {
   "cell_type": "markdown",
   "metadata": {},
   "source": [
    "##### Reference: https://keras.io/api/optimizers/sgd/"
   ]
  },
  {
   "cell_type": "code",
   "execution_count": 30,
   "metadata": {},
   "outputs": [
    {
     "name": "stdout",
     "output_type": "stream",
     "text": [
      "Epoch 1/15\n",
      "  1/419 [..............................] - ETA: 4:29 - loss: 0.7117 - accuracy: 0.4375WARNING:tensorflow:Callback method `on_train_batch_end` is slow compared to the batch time (batch time: 0.0028s vs `on_train_batch_end` time: 0.0064s). Check your callbacks.\n",
      "402/419 [===========================>..] - ETA: 0s - loss: 0.6414 - accuracy: 0.6326\n",
      "Epoch 00001: val_accuracy improved from -inf to 0.58515, saving model to model4_save\\weights-01-0.5852.hdf5\n",
      " -F1 score: 0.5851515151515152 -ROCValue: 0.5851515151515152\n",
      "419/419 [==============================] - 3s 5ms/step - loss: 0.6421 - accuracy: 0.6323 - val_loss: 0.6759 - val_accuracy: 0.5852 - lr: 0.0100\n",
      "Epoch 2/15\n",
      "417/419 [============================>.] - ETA: 0s - loss: 0.6206 - accuracy: 0.6529\n",
      "Epoch 00002: val_accuracy improved from 0.58515 to 0.66788, saving model to model4_save\\weights-02-0.6679.hdf5\n",
      " -F1 score: 0.6678787878787878 -ROCValue: 0.6678787878787878\n",
      "419/419 [==============================] - 2s 4ms/step - loss: 0.6201 - accuracy: 0.6535 - val_loss: 0.6076 - val_accuracy: 0.6679 - lr: 0.0100\n",
      "Epoch 3/15\n",
      "401/419 [===========================>..] - ETA: 0s - loss: 0.6180 - accuracy: 0.6585\n",
      "Epoch 00003: val_accuracy improved from 0.66788 to 0.67652, saving model to model4_save\\weights-03-0.6765.hdf5\n",
      " -F1 score: 0.6765151515151515 -ROCValue: 0.6765151515151515\n",
      "419/419 [==============================] - 2s 4ms/step - loss: 0.6176 - accuracy: 0.6593 - val_loss: 0.5989 - val_accuracy: 0.6765 - lr: 0.0095\n",
      "Epoch 00003: early stopping\n"
     ]
    },
    {
     "data": {
      "text/plain": [
       "<keras.callbacks.History at 0x1771415d280>"
      ]
     },
     "execution_count": 30,
     "metadata": {},
     "output_type": "execute_result"
    }
   ],
   "source": [
    "optimizer = tf.keras.optimizers.SGD(learning_rate = 0.01, momentum = 0.95, nesterov = False, name = 'SGD')\n",
    "\n",
    "model_4.compile(optimizer, loss = 'BinaryCrossentropy', metrics = ['accuracy'])\n",
    "\n",
    "model_4.fit(x = X_train, y = y_train, epochs = 15, validation_data = (X_test, y_test), \n",
    "            callbacks = [reduce_lr, lrschedule, checkpoint, earlystop, terminate, metrics, tensorboard_callback])"
   ]
  },
  {
   "cell_type": "code",
   "execution_count": 31,
   "metadata": {
    "scrolled": true
   },
   "outputs": [
    {
     "data": {
      "text/plain": [
       "[0.5851515151515152, 0.6678787878787878, 0.6765151515151515]"
      ]
     },
     "execution_count": 31,
     "metadata": {},
     "output_type": "execute_result"
    }
   ],
   "source": [
    "metrics.val_f1s"
   ]
  },
  {
   "cell_type": "code",
   "execution_count": 32,
   "metadata": {},
   "outputs": [
    {
     "data": {
      "text/html": [
       "\n",
       "      <iframe id=\"tensorboard-frame-2f0ae542ce797ec4\" width=\"100%\" height=\"800\" frameborder=\"0\">\n",
       "      </iframe>\n",
       "      <script>\n",
       "        (function() {\n",
       "          const frame = document.getElementById(\"tensorboard-frame-2f0ae542ce797ec4\");\n",
       "          const url = new URL(\"/\", window.location);\n",
       "          const port = 6006;\n",
       "          if (port) {\n",
       "            url.port = port;\n",
       "          }\n",
       "          frame.src = url;\n",
       "        })();\n",
       "      </script>\n",
       "    "
      ],
      "text/plain": [
       "<IPython.core.display.HTML object>"
      ]
     },
     "metadata": {},
     "output_type": "display_data"
    }
   ],
   "source": [
    "%tensorboard --logdir model4/logs/20220214-211419/"
   ]
  }
 ],
 "metadata": {
  "colab": {
   "collapsed_sections": [],
   "name": "Call_Backs_Assignment.ipynb",
   "provenance": []
  },
  "kernelspec": {
   "display_name": "Python 3 (ipykernel)",
   "language": "python",
   "name": "python3"
  },
  "language_info": {
   "codemirror_mode": {
    "name": "ipython",
    "version": 3
   },
   "file_extension": ".py",
   "mimetype": "text/x-python",
   "name": "python",
   "nbconvert_exporter": "python",
   "pygments_lexer": "ipython3",
   "version": "3.9.7"
  }
 },
 "nbformat": 4,
 "nbformat_minor": 1
}
