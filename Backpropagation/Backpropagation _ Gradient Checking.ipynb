{
 "cells": [
  {
   "cell_type": "markdown",
   "metadata": {
    "id": "y871RZtRhCEH"
   },
   "source": [
    "# Backpropagation"
   ]
  },
  {
   "cell_type": "markdown",
   "metadata": {
    "id": "LqePYi-4mFvK"
   },
   "source": [
    "There will be some functions that start with the word \"grader\" ex: grader_sigmoid(), grader_forwardprop(), grader_backprop() etc, you should not change those function definition.\n",
    "\n",
    "_Every Grader function has to return True._"
   ]
  },
  {
   "cell_type": "markdown",
   "metadata": {
    "id": "0huUQ0byiI0I"
   },
   "source": [
    "## Loading data"
   ]
  },
  {
   "cell_type": "code",
   "execution_count": 1,
   "metadata": {
    "colab": {
     "base_uri": "https://localhost:8080/",
     "height": 50
    },
    "id": "1hSje5CBgcUb",
    "outputId": "66535fa5-f8a2-4792-bc62-7842c93480f7"
   },
   "outputs": [
    {
     "name": "stdout",
     "output_type": "stream",
     "text": [
      "(506, 6)\n",
      "(506, 5) (506,)\n"
     ]
    }
   ],
   "source": [
    "import warnings\n",
    "warnings.filterwarnings('ignore')\n",
    "\n",
    "import pickle\n",
    "import numpy as np\n",
    "from tqdm import tqdm\n",
    "import matplotlib.pyplot as plt\n",
    "%matplotlib inline\n",
    "\n",
    "with open('data.pkl', 'rb') as f:\n",
    "    data = pickle.load(f)\n",
    "    \n",
    "print(data.shape)\n",
    "X = data[:, :5]\n",
    "y = data[:, -1]\n",
    "print(X.shape, y.shape)"
   ]
  },
  {
   "cell_type": "markdown",
   "metadata": {
    "id": "5JL-0soQistC"
   },
   "source": [
    "## Computational graph"
   ]
  },
  {
   "cell_type": "markdown",
   "metadata": {
    "id": "nREnTTJ3i0Vd"
   },
   "source": [
    "<img src='https://i.imgur.com/seSGbNS.png'>"
   ]
  },
  {
   "cell_type": "markdown",
   "metadata": {
    "id": "DSPX_H_4i_HT"
   },
   "source": [
    "\n",
    "*  If you observe the graph, we are having input features [f1, f2, f3, f4, f5] and 9 weights [w1, w2, w3, w4, w5, w6,    w7, w8, w9].\n",
    "*  The final output of this graph is a value L which is computed as (Y-Y')^2."
   ]
  },
  {
   "cell_type": "markdown",
   "metadata": {
    "id": "D54eDEv6jkO4"
   },
   "source": [
    "## Task 1: Implementing backpropagation and Gradient checking"
   ]
  },
  {
   "cell_type": "markdown",
   "metadata": {
    "id": "qocI1Vzqkod9"
   },
   "source": [
    "_Check this video for better understanding of the computational graphs and backpropagation._"
   ]
  },
  {
   "cell_type": "code",
   "execution_count": 2,
   "metadata": {
    "colab": {
     "base_uri": "https://localhost:8080/",
     "height": 521
    },
    "id": "Wb5WMdwJinlX",
    "outputId": "b10489ec-890a-445a-c6a4-a3e0ea2a66be"
   },
   "outputs": [
    {
     "data": {
      "text/html": [
       "\n",
       "        <iframe\n",
       "            width=\"800\"\n",
       "            height=\"500\"\n",
       "            src=\"https://www.youtube.com/embed/i94OvYb6noo\"\n",
       "            frameborder=\"0\"\n",
       "            allowfullscreen\n",
       "            \n",
       "        ></iframe>\n",
       "        "
      ],
      "text/plain": [
       "<IPython.lib.display.YouTubeVideo at 0x17f129f1d60>"
      ]
     },
     "execution_count": 2,
     "metadata": {},
     "output_type": "execute_result"
    }
   ],
   "source": [
    "from IPython.display import YouTubeVideo\n",
    "YouTubeVideo('i94OvYb6noo', width = \"800\", height = \"500\")"
   ]
  },
  {
   "cell_type": "markdown",
   "metadata": {
    "id": "2jecTyVRlh-6"
   },
   "source": [
    "\n",
    "*  <b>Write two functions<br>\n",
    "    *  Forward propagation</b>(Write your code in<font color='blue'> def forward_propagation()</b></font>)<br><br>\n",
    "    For easy debugging, we will break the computational graph into 3 parts.\n",
    "\n",
    "    ##### Part 1\n",
    "    <img src='https://i.imgur.com/0xUaxy6.png'><br><br>\n",
    "    ##### Part 2\n",
    "    <img src='https://i.imgur.com/J29pAJL.png'><br><br>\n",
    "    ##### Part 3\n",
    "    <img src='https://i.imgur.com/vMyCsd9.png'>\n",
    "\n",
    "    <pre>\n",
    "    <font color='green'>\n",
    "def forward_propagation(X, y, W):\n",
    "        <font color='grey'>\n",
    "        # X: input data point, note that in this assignment you are having 5-d data points\n",
    "        # y: output varible\n",
    "        # W: weight array, its of length 9, W[0] corresponds to w1 in graph, W[1] corresponds to w2 in graph, <br>         ..., W[8] corresponds to w9 in graph.  \n",
    "        # you have to return the following variables\n",
    "        # exp = part1 (compute the forward propagation until exp and then store the values in exp)\n",
    "        # tanh = part2(compute the forward propagation until tanh and then store the values in tanh)\n",
    "        # sig = part3(compute the forward propagation until sigmoid and then store the values in sig)\n",
    "        # now compute remaining values from computional graph and get y'\n",
    "        # write code to compute the value of L=(y-y')^2\n",
    "        # compute derivative of L  w.r.t Y' and store it in dl\n",
    "        # Create a dictionary to store all the intermediate values\n",
    "        # store L, exp,tanh,sig,dl variables\n",
    "        </font>\n",
    "        return (dictionary, which you might need to use for back propagation)\n",
    "        <font color='grey'>\n",
    "        </font>\n",
    "</font>\n",
    "</pre>\n",
    "    *  <b>Backward propagation</b>(Write your code in<font color='blue'> def backward_propagation()</b></font>)\n",
    "    </b>\n",
    "    <pre>\n",
    "    <font color='green'>\n",
    "    def backward_propagation(L, W,dictionary):\n",
    "        <font color='grey'>\n",
    "        # L: the loss we calculated for the current point\n",
    "        # dictionary: the outputs of the forward_propagation() function\n",
    "        # write code to compute the gradients of each weight [w1,w2,w3,...,w9]\n",
    "        # Hint: you can use dict type to store the required variables \n",
    "        # return dW, dW is a dictionary with gradients of all the weights\n",
    "        </font>\n",
    "        return dW\n",
    "        </font>\n",
    "</font>\n",
    "</pre>"
   ]
  },
  {
   "cell_type": "markdown",
   "metadata": {
    "id": "STS4NrQQc6OH"
   },
   "source": [
    " ## Gradient clipping"
   ]
  },
  {
   "cell_type": "markdown",
   "metadata": {
    "id": "XY7ivRNzdPok"
   },
   "source": [
    "_Check this  <a href='https://towardsdatascience.com/how-to-debug-a-neural-network-with-gradient-checking-41deec0357a9'>blog link</a> for more details on Gradient clipping._"
   ]
  },
  {
   "cell_type": "markdown",
   "metadata": {
    "id": "BrsfpDoidtZ5"
   },
   "source": [
    " we know that the derivative of any function is\n",
    " \n",
    " $$\\lim_{\\epsilon\\to0}\\frac{f(x+\\epsilon)-f(x-\\epsilon)}{2\\epsilon}$$\n"
   ]
  },
  {
   "cell_type": "markdown",
   "metadata": {
    "id": "vUcmt0kPd02f"
   },
   "source": [
    "*  The definition above can be used as a numerical approximation of the derivative. Taking an epsilon small enough, the calculated approximation will have an error in the range of epsilon squared. \n",
    "\n",
    "*  In other words, if epsilon is 0.001, the approximation will be off by 0.00001.\n",
    "\n",
    "Therefore, we can use this to approximate the gradient, and in turn make sure that backpropagation is implemented properly. This forms the basis of <b>gradient checking!</b>"
   ]
  },
  {
   "cell_type": "markdown",
   "metadata": {
    "id": "pFSu16KCeU0x"
   },
   "source": [
    "## Gradient checking example"
   ]
  },
  {
   "cell_type": "markdown",
   "metadata": {
    "id": "Gz0mmT_xecfC"
   },
   "source": [
    "<font >\n",
    "lets understand the concept with a simple example:\n",
    "$f(w1,w2,x1,x2)=w_{1}^{2} . x_{1} + w_{2} . x_{2}$ \n",
    "\n",
    "from the above function , lets assume $w_{1}=1$, $w_{2}=2$, $x_{1}=3$, $x_{2}=4$ the gradient of $f$ w.r.t $w_{1}$ is\n",
    "\n",
    "\\begin{array} {lcl}\n",
    "\\frac{df}{dw_{1}} = dw_{1} &=&2.w_{1}.x_{1} \\\\& = &2.1.3\\\\& = &6\n",
    "\\end{array}\n",
    "\n",
    "\n",
    "let calculate the aproximate gradient of $w_{1}$ as mentinoned in the above formula and considering $\\epsilon=0.0001$\n",
    "\n",
    "\\begin{array} {lcl}\n",
    "dw_1^{approx} & = & \\frac{f(w1+\\epsilon,w2,x1,x2)-f(w1-\\epsilon,w2,x1,x2)}{2\\epsilon} \\\\ & = & \\frac{((1+0.0001)^{2} . 3 + 2 . 4) - ((1-0.0001)^{2} . 3 + 2 . 4)}{2\\epsilon} \\\\ & = & \\frac{(1.00020001 . 3 + 2 . 4) - (0.99980001. 3 + 2 . 4)}{2*0.0001} \\\\ & = & \\frac{(11.00060003) - (10.99940003)}{0.0002}\\\\ & = & 5.99999999999\n",
    "\\end{array}\n",
    "\n",
    "Then, we apply the following formula for gradient check: <i>gradient_check</i> = \n",
    "$\\frac{\\left\\Vert\\left (dW-dW^{approx}\\rm\\right) \\right\\Vert_2}{\\left\\Vert\\left (dW\\rm\\right) \\right\\Vert_2+\\left\\Vert\\left (dW^{approx}\\rm\\right) \\right\\Vert_2}$\n",
    "\n",
    "The equation above is basically the Euclidean distance normalized by the sum of the norm of the vectors. We use normalization in case that one of the vectors is very small.\n",
    "As a value for epsilon, we usually opt for 1e-7. Therefore, if gradient check return a value less than 1e-7, then it means that backpropagation was implemented correctly. Otherwise, there is potentially a mistake in your implementation. If the value exceeds 1e-3, then you are sure that the code is not correct.\n",
    "\n",
    "in our example: <i>gradient_check</i> $ = \\frac{(6 - 5.999999999994898)}{(6 + 5.999999999994898)} = 4.2514140356330737e^{-13}$\n",
    "\n",
    "you can mathamatically derive the same thing like this\n",
    "\n",
    "\\begin{array} {lcl}\n",
    "dw_1^{approx} & = & \\frac{f(w1+\\epsilon,w2,x1,x2)-f(w1-\\epsilon,w2,x1,x2)}{2\\epsilon} \\\\ & = & \\frac{((w_{1}+\\epsilon)^{2} . x_{1} + w_{2} . x_{2}) - ((w_{1}-\\epsilon)^{2} . x_{1} + w_{2} . x_{2})}{2\\epsilon} \\\\ & = & \\frac{4. \\epsilon.w_{1}. x_{1}}{2\\epsilon} \\\\ & = &  2.w_{1}.x_{1}\n",
    "\\end{array}\n"
   ]
  },
  {
   "cell_type": "markdown",
   "metadata": {
    "id": "f1BFQQaCermK"
   },
   "source": [
    "##  Implement Gradient checking <br>\n",
    " (Write your code in <font color='blue'> def gradient_checking()</font>)"
   ]
  },
  {
   "cell_type": "markdown",
   "metadata": {
    "id": "GqpfA3AqfJba"
   },
   "source": [
    "**Algorithm** \n",
    "\n"
   ]
  },
  {
   "cell_type": "markdown",
   "metadata": {
    "id": "FL39KeRFfNoD"
   },
   "source": [
    "<pre>\n",
    "<font color='darkblue'>\n",
    "W = initilize_randomly\n",
    "def gradient_checking(data_point, W):<font color='grey'>\n",
    "    # compute the L value using forward_propagation()\n",
    "    # compute the gradients of W using backward_propagation()</font>\n",
    "    approx_gradients = []\n",
    "    for each wi weight value in W:<font color='grey'>\n",
    "        # add a small value to weight wi, and then find the values of L with the updated weights\n",
    "        # subtract a small value to weight wi, and then find the values of L with the updated weights\n",
    "        # compute the approximation gradients of weight wi</font>\n",
    "        approx_gradients.append(approximation gradients of weight wi)<font color='grey'>\n",
    "    # compare the gradient of weights W from backward_propagation() with the approximation gradients of weights with <br>  gradient_check formula</font>\n",
    "    return gradient_check</font>\n",
    "</pre></b>"
   ]
  },
  {
   "cell_type": "markdown",
   "metadata": {},
   "source": [
    "_NOTE: you can do sanity check by checking all the return values of gradient_checking(), they have to be zero. if not you have bug in your code._"
   ]
  },
  {
   "cell_type": "markdown",
   "metadata": {
    "id": "0ufbFBFfhgL0"
   },
   "source": [
    "# Task 2 : Optimizers"
   ]
  },
  {
   "cell_type": "markdown",
   "metadata": {
    "id": "7zt05soYh1RM"
   },
   "source": [
    "* As a part of this task, you will be implementing 3 type of optimizers(methods to update weight)\n",
    "* Use the same computational graph that was mentioned above to do this task\n",
    "* Initialize the 9 weights from normal distribution with mean=0 and std=0.01"
   ]
  },
  {
   "cell_type": "markdown",
   "metadata": {
    "id": "CAyi7aSAicbr"
   },
   "source": [
    "_Check the below video and <a href='https://cs231n.github.io/neural-networks-3/'>this</a> blog._"
   ]
  },
  {
   "cell_type": "code",
   "execution_count": 3,
   "metadata": {
    "colab": {
     "base_uri": "https://localhost:8080/",
     "height": 521
    },
    "id": "ZogcxiegkQpz",
    "outputId": "9b4e0235-e638-4f20-d9c1-ac3ca4fb3ce8"
   },
   "outputs": [
    {
     "data": {
      "image/jpeg": "[encoded data removed]",
      "text/html": [
       "\n",
       "        <iframe\n",
       "            width=\"800\"\n",
       "            height=\"500\"\n",
       "            src=\"https://www.youtube.com/embed/gYpoJMlgyXA\"\n",
       "            frameborder=\"0\"\n",
       "            allowfullscreen\n",
       "            \n",
       "        ></iframe>\n",
       "        "
      ],
      "text/plain": [
       "<IPython.lib.display.YouTubeVideo at 0x17f129f13d0>"
      ]
     },
     "execution_count": 3,
     "metadata": {},
     "output_type": "execute_result"
    }
   ],
   "source": [
    "from IPython.display import YouTubeVideo\n",
    "YouTubeVideo('gYpoJMlgyXA', width = \"800\", height = \"500\")"
   ]
  },
  {
   "cell_type": "markdown",
   "metadata": {
    "id": "jmefh7ktjbaR"
   },
   "source": [
    "##### Algorithm"
   ]
  },
  {
   "cell_type": "markdown",
   "metadata": {
    "id": "nAc4NudkjdNa"
   },
   "source": [
    "    for each epoch(1-100):\n",
    "        for each data point in your data:\n",
    "            using the functions forward_propagation() and backward_propagation() compute the gradients of weights\n",
    "            update the weights with help of gradients  ex: w1 = w1-learning_rate*dw1"
   ]
  },
  {
   "cell_type": "markdown",
   "metadata": {
    "id": "_fdmPNqtjm3X"
   },
   "source": [
    "## Implement below tasks"
   ]
  },
  {
   "cell_type": "markdown",
   "metadata": {
    "id": "Ll9-CRsLjx_D"
   },
   "source": [
    "*  __Task 2.1__:You will be implementing the above algorithm with __Vanilla update__ of weights.\n",
    "*  __Task 2.2__:You will be implementing the above algorithm with __Momentum update__ of weights.\n",
    "*  __Task 2.3__:You will be implementing the above algorithm with __Adam update__ of weights."
   ]
  },
  {
   "cell_type": "markdown",
   "metadata": {
    "id": "atp082demrUR"
   },
   "source": [
    "__Note__: _If you get any assertion error while running grader functions, please print the variables in grader functions and check which variable is returning False. Recheck your logic for that variable._"
   ]
  },
  {
   "cell_type": "markdown",
   "metadata": {
    "id": "CBaPzHP63grG"
   },
   "source": [
    "# Task 1 "
   ]
  },
  {
   "cell_type": "markdown",
   "metadata": {
    "id": "QfmV3FUgSrBo"
   },
   "source": [
    "## Forward propagation "
   ]
  },
  {
   "cell_type": "code",
   "execution_count": 4,
   "metadata": {},
   "outputs": [],
   "source": [
    "import math"
   ]
  },
  {
   "cell_type": "code",
   "execution_count": 5,
   "metadata": {
    "id": "5_pBivcY30qf"
   },
   "outputs": [],
   "source": [
    "# we can use this function in forward and backward propagation\n",
    "def sigmoid(z):\n",
    "    '''In this function, we will compute the sigmoid(z)'''\n",
    "    return 1 / (1 + math.exp(-z))\n",
    "    \n",
    "def forward_propagation(x, y, w):\n",
    "    '''In this function, we will compute the forward propagation'''\n",
    "    dict = {}\n",
    "    exp = np.exp((((w[0] * x[0]) + (w[1] * x[1])) * ((w[0] * x[0]) + (w[1] * x[1]))) + w[5])\n",
    "    tanh = np.tanh(exp + w[6])\n",
    "    sig = sigmoid((np.sin(w[2] * x[2]) * ((w[3] * x[3]) + (w[4] * x[4]))) + w[7])\n",
    "    y_hat = tanh + sig * w[8]\n",
    "    L = math.pow(y - y_hat, 2)\n",
    "    dl = -2 * (y - y_hat)\n",
    "    dict[\"exp\"] = exp\n",
    "    dict[\"tanh\"] = tanh\n",
    "    dict[\"sigmoid\"] = sig\n",
    "    dict[\"L\"] = L\n",
    "    dict[\"dl\"] = dl\n",
    "    dict[\"y_hat\"] = y_hat\n",
    "    return dict"
   ]
  },
  {
   "cell_type": "markdown",
   "metadata": {
    "id": "z-z1rGKqCHNN"
   },
   "source": [
    "<font color='cyan'>Grader function - 1</font>"
   ]
  },
  {
   "cell_type": "code",
   "execution_count": 6,
   "metadata": {
    "id": "6ZxFF00zBmx1"
   },
   "outputs": [
    {
     "data": {
      "text/plain": [
       "True"
      ]
     },
     "execution_count": 6,
     "metadata": {},
     "output_type": "execute_result"
    }
   ],
   "source": [
    "def grader_sigmoid(z):\n",
    "    val = sigmoid(z)\n",
    "    assert(val == 0.8807970779778823)\n",
    "    return True\n",
    "grader_sigmoid(2)"
   ]
  },
  {
   "cell_type": "markdown",
   "metadata": {
    "id": "KgAUXq_aChey"
   },
   "source": [
    "<font color='cyan'>Grader function - 2 </font>"
   ]
  },
  {
   "cell_type": "code",
   "execution_count": 7,
   "metadata": {
    "id": "3uzsUqcjCorN"
   },
   "outputs": [
    {
     "data": {
      "text/plain": [
       "True"
      ]
     },
     "execution_count": 7,
     "metadata": {},
     "output_type": "execute_result"
    }
   ],
   "source": [
    "def grader_forwardprop(data):\n",
    "    dl = (data['dl'] == -1.9285278284819143)\n",
    "    loss = (data['L'] == 0.9298048963072919)\n",
    "    part1 = (data['exp'] == 1.1272967040973583)\n",
    "    part2 = (data['tanh'] == 0.8417934192562146)\n",
    "    part3 = (data['sigmoid'] == 0.5279179387419721)\n",
    "    assert(dl and loss and part1 and part2 and part3)\n",
    "    return True\n",
    "w = np.ones(9) * 0.1\n",
    "d1 = forward_propagation(X[0], y[0], w)\n",
    "grader_forwardprop(d1)"
   ]
  },
  {
   "cell_type": "markdown",
   "metadata": {
    "id": "obOaAqj3Sxvb"
   },
   "source": [
    "## Backward propagation"
   ]
  },
  {
   "cell_type": "code",
   "execution_count": 8,
   "metadata": {
    "id": "dS49ykcOGhIv"
   },
   "outputs": [],
   "source": [
    "def backward_propagation(x, W, dict):\n",
    "    '''In this function, we will compute the backward propagation '''\n",
    "    # L: the loss we calculated for the current point\n",
    "    # dictionary: the outputs of the forward_propagation() function\n",
    "    # write code to compute the gradients of each weight [w1,w2,w3,...,w9]\n",
    "    # Hint: you can use dict type to store the required variables \n",
    "    # dw1 = compute derivative of L w.r.t w1\n",
    "    # dw2 = compute derivative of L w.r.t w2\n",
    "    # dw3 = compute derivative of L w.r.t w3\n",
    "    # dw4 = compute derivative of L w.r.t w4\n",
    "    # dw5 = compute derivative of L w.r.t w5\n",
    "    # dw6 = compute derivative of L w.r.t w6\n",
    "    # dw7 = compute derivative of L w.r.t w7\n",
    "    # dw8 = compute derivative of L w.r.t w8\n",
    "    # dw9 = compute derivative of L w.r.t w9\n",
    "    dW = {}\n",
    "    k = dict['dl']\n",
    "    dW['dw1'] = k * (1 - (math.pow(dict['tanh'], 2))) * dict['exp'] * 2 * ((w[0] * x[0]) + (w[1] * x[1])) * x[0]\n",
    "    dW['dw2'] = k * (1 - (math.pow(dict['tanh'], 2))) * dict['exp'] * 2 * ((w[0] * x[0]) + (w[1] * x[1])) * x[1]\n",
    "    dW['dw3'] = k * (dict['sigmoid'] * (1 - dict['sigmoid'])) * w[8] * ((w[3] * x[3]) + (w[4] * x[4])) * math.cos(x[2] * w[2]) * x[2]\n",
    "    dW['dw4'] = k * (dict['sigmoid'] * (1 - dict['sigmoid'])) * w[8] * math.sin(x[2] * w[2]) * x[3]\n",
    "    dW['dw5'] = k * (dict['sigmoid'] * (1 - dict['sigmoid'])) * w[8] * math.sin(x[2] * w[2]) * x[4]\n",
    "    dW['dw6'] = k * (1 - math.pow(dict['tanh'], 2)) * dict['exp']\n",
    "    dW['dw7'] = k * (1 - math.pow(dict['tanh'], 2))\n",
    "    dW['dw8'] = k * w[8] * (dict['sigmoid'] * (1 - dict['sigmoid']))\n",
    "    dW['dw9'] = k * dict[\"sigmoid\"]\n",
    "    return dW\n",
    "    # return dW, dW is a dictionary with gradients of all the weights"
   ]
  },
  {
   "cell_type": "markdown",
   "metadata": {
    "id": "2NpZWAVlS4jb"
   },
   "source": [
    "<font color='cyan'>Grader function - 3 </font>"
   ]
  },
  {
   "cell_type": "code",
   "execution_count": 9,
   "metadata": {
    "id": "1a8Kll2xGhMJ"
   },
   "outputs": [
    {
     "data": {
      "text/plain": [
       "True"
      ]
     },
     "execution_count": 9,
     "metadata": {},
     "output_type": "execute_result"
    }
   ],
   "source": [
    "def grader_backprop(data):\n",
    "    dw1 = (np.round(data['dw1'], 8) == -0.22973323)\n",
    "    dw2 = (np.round(data['dw2'], 8) == -0.02140761)\n",
    "    dw3 = (np.round(data['dw3'], 8) == -0.00562541)\n",
    "    dw4 = (np.round(data['dw4'], 8) == -0.00465794)\n",
    "    dw5 = (np.round(data['dw5'], 8) == -0.00100772)\n",
    "    dw6 = (np.round(data['dw6'], 8) == -0.63347519)\n",
    "    dw7 = (np.round(data['dw7'], 8) == -0.56194184)\n",
    "    dw8 = (np.round(data['dw8'], 8) == -0.04806288)\n",
    "    dw9 = (np.round(data['dw9'], 8) == -1.01810444)\n",
    "    assert(dw1 and dw2 and dw3 and dw4 and dw5 and dw6 and dw7 and dw8 and dw9)\n",
    "    return True \n",
    "w = np.ones(9) * 0.1\n",
    "d1 = forward_propagation(X[0], y[0], w)\n",
    "d1 = backward_propagation(X[0], w, d1)\n",
    "grader_backprop(d1)"
   ]
  },
  {
   "cell_type": "markdown",
   "metadata": {
    "id": "1rfHHXZwgwo6"
   },
   "source": [
    "## Implement gradient checking"
   ]
  },
  {
   "cell_type": "markdown",
   "metadata": {
    "id": "oh8wj1yjGhOi"
   },
   "source": [
    "    W = initialize_randomly\n",
    "    def gradient_checking(data_point, W):\n",
    "        # compute the L value using forward_propagation()\n",
    "        # compute the gradients of W using backword_propagation()\n",
    "        approx_gradients = []\n",
    "        for each wi weight value in W:\n",
    "            # add a small value to weight wi, and then find the values of L with the updated weights\n",
    "            # subtract a small value to weight wi, and then find the values of L with the updated weights\n",
    "            # compute the approximation gradients of weight wi\n",
    "            approx_gradients.append(approximation gradients of weight wi)\n",
    "            # compare the gradient of weights W from backword_propagation() with the aproximation gradients of weights \n",
    "            with gradient_check formula\n",
    "        return gradient_check"
   ]
  },
  {
   "cell_type": "code",
   "execution_count": 10,
   "metadata": {},
   "outputs": [],
   "source": [
    "# initialize weights\n",
    "W = np.ones(9) * 0.1"
   ]
  },
  {
   "cell_type": "code",
   "execution_count": 11,
   "metadata": {},
   "outputs": [],
   "source": [
    "def gradient_checking(data, W):\n",
    "    # compute the L value using forward_propagation()\n",
    "    L = forward_propagation(X[0], y[0], W)                     \n",
    "    # compute the gradients of W using backword_propagation()\n",
    "    dw = backward_propagation(X[0], W, L)\n",
    "    print(dw)\n",
    "    approx_gradients = []\n",
    "    gradient_check = []\n",
    "    e_0 = 0.0001\n",
    "    for i in range(9):\n",
    "        W[i] = W[i] + e_0\n",
    "        # print(W)\n",
    "        dl1 = forward_propagation(X[0], y[0], W)\n",
    "        l1  = dl1['L']\n",
    "        W[i] = W[i] - (2*e_0)\n",
    "        # print(W)\n",
    "        dl2 = forward_propagation(X[0], y[0], W)\n",
    "        l2  = dl2['L']\n",
    "        dw_approx = (l1 - l2)/ (2 * e_0)\n",
    "        approx_gradients.append(dw_approx)\n",
    "        # print(approx_gradients)\n",
    "  \n",
    "    for i in range(9):\n",
    "        gradient_check.append(approx_gradients[i] - dw['dw' + str(i+1)])\n",
    "    \"\"\"\n",
    "    gradient_check.append(approx_gradients[0] - dw['dw1'])\n",
    "    gradient_check.append(approx_gradients[1] - dw['dw2'])\n",
    "    gradient_check.append(approx_gradients[2] - dw['dw3'])\n",
    "    gradient_check.append(approx_gradients[3] - dw['dw4'])\n",
    "    gradient_check.append(approx_gradients[4] - dw['dw5'])\n",
    "    gradient_check.append(approx_gradients[5] - dw['dw6'])\n",
    "    gradient_check.append(approx_gradients[6] - dw['dw7'])\n",
    "    gradient_check.append(approx_gradients[7] - dw['dw8'])\n",
    "    gradient_check.append(approx_gradients[8] - dw['dw9'])\n",
    "    \"\"\"\n",
    "    return gradient_check"
   ]
  },
  {
   "cell_type": "code",
   "execution_count": 12,
   "metadata": {},
   "outputs": [
    {
     "name": "stdout",
     "output_type": "stream",
     "text": [
      "Actual gradients computed using Backpropagation\n"
     ]
    },
    {
     "data": {
      "text/plain": [
       "{'dw1': -0.22973323498702,\n",
       " 'dw2': -0.02140761471775293,\n",
       " 'dw3': -0.00562540558026632,\n",
       " 'dw4': -0.004657941222712424,\n",
       " 'dw5': -0.0010077228498574248,\n",
       " 'dw6': -0.6334751873437471,\n",
       " 'dw7': -0.561941842854033,\n",
       " 'dw8': -0.04806288407316516,\n",
       " 'dw9': -1.0181044360187037}"
      ]
     },
     "execution_count": 12,
     "metadata": {},
     "output_type": "execute_result"
    }
   ],
   "source": [
    "print(\"Actual gradients computed using Backpropagation\")\n",
    "loss = forward_propagation(X[0], y[0], W)\n",
    "backward_propagation(X[0], W, loss)"
   ]
  },
  {
   "cell_type": "code",
   "execution_count": 13,
   "metadata": {},
   "outputs": [
    {
     "name": "stdout",
     "output_type": "stream",
     "text": [
      "Loss computed using forward propagation: 0.9298048963072919\n",
      "Approximate Gradients after GRADIENT CHECKING\n",
      "{'dw1': -0.22973323498702, 'dw2': -0.02140761471775293, 'dw3': -0.00562540558026632, 'dw4': -0.004657941222712424, 'dw5': -0.0010077228498574248, 'dw6': -0.6334751873437471, 'dw7': -0.561941842854033, 'dw8': -0.04806288407316516, 'dw9': -1.0181044360187037}\n",
      "Difference between gradients\n",
      "[4.765002142859132e-09, 1.8622573097645118e-05, -7.591536392657222e-08, 4.5576303667402285e-06, 9.852254813386835e-07, -3.14725668294491e-05, -0.00017599811356894257, -3.831193749366524e-06, -2.3099298455564465e-05]\n"
     ]
    }
   ],
   "source": [
    "L = forward_propagation(X[0], y[0], W) \n",
    "print(\"Loss computed using forward propagation:\", L['L']) \n",
    "print(\"Approximate Gradients after GRADIENT CHECKING\")\n",
    "diff = gradient_checking(data, W)\n",
    "print(\"Difference between gradients\")\n",
    "print(diff)"
   ]
  },
  {
   "cell_type": "markdown",
   "metadata": {},
   "source": [
    "##### Since the difference is in the range less than 10^-7, the gradients using backpropagation is working well."
   ]
  },
  {
   "cell_type": "markdown",
   "metadata": {
    "id": "MhwDSe99kJ32"
   },
   "source": [
    "# Task 2: Optimizers"
   ]
  },
  {
   "cell_type": "markdown",
   "metadata": {},
   "source": [
    "##### * Reference: https://towardsdatascience.com/10-gradient-descent-optimisation-algorithms-86989510b5e9"
   ]
  },
  {
   "cell_type": "markdown",
   "metadata": {
    "id": "jJzI-vnPk1dB"
   },
   "source": [
    "##### Algorithm with Vanilla update of weights"
   ]
  },
  {
   "cell_type": "code",
   "execution_count": 14,
   "metadata": {
    "id": "xJspU6ZuGhRQ"
   },
   "outputs": [],
   "source": [
    "from sklearn.metrics import mean_squared_error \n",
    "\n",
    "mean, std_dev = 0, 0.01 # mean and standard deviation\n",
    "\n",
    "w = np.random.normal(mean, std_dev, 9) # weight intialization\n",
    "weight = w"
   ]
  },
  {
   "cell_type": "code",
   "execution_count": 15,
   "metadata": {},
   "outputs": [],
   "source": [
    "epochs = 100\n",
    "learning_rate = 0.01\n",
    "vanilla_loss = []\n",
    "for epoch in range(100):\n",
    "    y_pred = []\n",
    "    for point in range(len(data)):\n",
    "        forward = forward_propagation(X[point], y[point], w)\n",
    "        y_pred.append(forward['y_hat'])\n",
    "        backward = backward_propagation(X[point], w, forward)\n",
    "        key_l = list(backward.keys())\n",
    "        for k in range(9):\n",
    "            w[k] = w[k] - learning_rate * backward[key_l[k]]\n",
    "    loss = mean_squared_error(y, y_pred) \n",
    "    vanilla_loss.append(loss)"
   ]
  },
  {
   "cell_type": "markdown",
   "metadata": {
    "id": "UlTLXrvmlR26"
   },
   "source": [
    "###### Plot between epochs and loss"
   ]
  },
  {
   "cell_type": "code",
   "execution_count": 16,
   "metadata": {
    "id": "CjTCVUIoGhTo"
   },
   "outputs": [
    {
     "data": {
      "image/png": "[encoded data removed]",
      "text/plain": [
       "<Figure size 576x432 with 1 Axes>"
      ]
     },
     "metadata": {
      "needs_background": "light"
     },
     "output_type": "display_data"
    }
   ],
   "source": [
    "plt.figure(figsize = (8, 6))\n",
    "plt.grid()\n",
    "\n",
    "epoch = range(0, 100)\n",
    "plt.plot(epoch, vanilla_loss, 'b', label='Loss with Vanilla update of weights')\n",
    "plt.xlabel('Epochs')\n",
    "plt.ylabel('Loss')\n",
    "plt.title('Epoch v/s Loss')\n",
    "plt.legend()\n",
    "plt.show()"
   ]
  },
  {
   "cell_type": "markdown",
   "metadata": {
    "id": "cv_hZFWalS2z"
   },
   "source": [
    "###### Algorithm with Momemtum update of weights"
   ]
  },
  {
   "cell_type": "code",
   "execution_count": 17,
   "metadata": {},
   "outputs": [],
   "source": [
    "learning_rate = 0.001\n",
    "m = np.zeros(9)\n",
    "b = 0.9"
   ]
  },
  {
   "cell_type": "code",
   "execution_count": 18,
   "metadata": {
    "id": "uucCdyQrGhZt"
   },
   "outputs": [],
   "source": [
    "momentum_loss = []\n",
    "for epoch in range(100):\n",
    "    y_pred = []\n",
    "    for point in range(len(data)):\n",
    "        forward = forward_propagation(X[point], y[point], w)\n",
    "        y_pred.append(forward['y_hat'])\n",
    "        backward = backward_propagation(X[point], w, forward)\n",
    "        key_l = list(backward.keys())\n",
    "        for k in range(9):\n",
    "            m[k] = b * m[k] + (1 - b) * backward[key_l[k]]\n",
    "            w[k] = w[k] - learning_rate * m[k]    \n",
    "    loss = mean_squared_error(y, y_pred) \n",
    "    momentum_loss.append(loss)"
   ]
  },
  {
   "cell_type": "markdown",
   "metadata": {
    "id": "Ow20azfKlVhn"
   },
   "source": [
    "###### Plot between epochs and loss"
   ]
  },
  {
   "cell_type": "code",
   "execution_count": 19,
   "metadata": {
    "id": "u-m90Sq_Ghce"
   },
   "outputs": [
    {
     "data": {
      "image/png": "[encoded data removed]",
      "text/plain": [
       "<Figure size 576x432 with 1 Axes>"
      ]
     },
     "metadata": {
      "needs_background": "light"
     },
     "output_type": "display_data"
    }
   ],
   "source": [
    "plt.figure(figsize = (8, 6))\n",
    "plt.grid()\n",
    "\n",
    "epoch = range(0, 100)\n",
    "plt.plot(epoch, momentum_loss, 'y', label='Loss with Momentum update of weights')\n",
    "plt.xlabel('Epochs')\n",
    "plt.ylabel('Loss')\n",
    "plt.title('Epoch v/s Loss')\n",
    "plt.legend()\n",
    "plt.show()"
   ]
  },
  {
   "cell_type": "markdown",
   "metadata": {
    "id": "V4RWWrZ7lWap"
   },
   "source": [
    "###### Algorithm with Adam update of weights"
   ]
  },
  {
   "cell_type": "code",
   "execution_count": 20,
   "metadata": {},
   "outputs": [],
   "source": [
    "rate = 0.001\n",
    "beta_1 = 0.9\n",
    "beta_2 = 0.999\n",
    "m = np.zeros(9)\n",
    "v = np.zeros(9)\n",
    "epsilon = 1e-8"
   ]
  },
  {
   "cell_type": "code",
   "execution_count": 21,
   "metadata": {
    "id": "72rRC8rJGhf5"
   },
   "outputs": [],
   "source": [
    "adam_loss = []\n",
    "for epoch in range(100):\n",
    "    y_pred = []\n",
    "    for point in range(len(data)):\n",
    "        #using the functions forward_propagation() and backword_propagation() compute the gradients of weights\n",
    "        #update the weights with help of gradients ex: w1 = w1-learning_rate*dw1\n",
    "        forward = forward_propagation(X[point], y[point], w)\n",
    "        y_pred.append(forward['y_hat'])\n",
    "        backward = backward_propagation(X[point], w, forward)\n",
    "        key_l = list(backward.keys())\n",
    "        for k in range(9):\n",
    "            m[k] = beta_1 * m[k] + (1 - beta_1) * backward[key_l[k]]\n",
    "            m_hat = m[k] / (1 - beta_1)\n",
    "            v[k] = beta_2 * v[k] + (1 - beta_2) * backward[key_l[k]] * backward[key_l[k]]\n",
    "            v_hat = v[k] / (1 - beta_2)\n",
    "            w[k] = w[k] - ((learning_rate * m_hat)/(math.sqrt(v_hat + epsilon)))\n",
    "    loss = mean_squared_error(y, y_pred) \n",
    "    adam_loss.append(loss)"
   ]
  },
  {
   "cell_type": "markdown",
   "metadata": {
    "id": "MMy0nBw-lXml"
   },
   "source": [
    "###### Plot between epochs and loss"
   ]
  },
  {
   "cell_type": "code",
   "execution_count": 22,
   "metadata": {
    "id": "aiFRk_uFlm2V"
   },
   "outputs": [
    {
     "data": {
      "image/png": "[encoded data removed]",
      "text/plain": [
       "<Figure size 576x432 with 1 Axes>"
      ]
     },
     "metadata": {
      "needs_background": "light"
     },
     "output_type": "display_data"
    }
   ],
   "source": [
    "plt.figure(figsize = (8, 6))\n",
    "plt.grid()\n",
    "\n",
    "epoch = range(0, 100)\n",
    "plt.plot(epoch, adam_loss, 'g', label='Loss with Adam update of weights')\n",
    "plt.xlabel('Epochs')\n",
    "plt.ylabel('Loss')\n",
    "plt.title('Epoch v/s Loss')\n",
    "plt.legend()\n",
    "plt.show()"
   ]
  },
  {
   "cell_type": "markdown",
   "metadata": {
    "id": "7627cy8YlnYO"
   },
   "source": [
    "###### Comparison plot between epochs and loss with different optimizers"
   ]
  },
  {
   "cell_type": "code",
   "execution_count": 23,
   "metadata": {
    "id": "scleSfIXl_bC"
   },
   "outputs": [
    {
     "data": {
      "image/png": "[encoded data removed]",
      "text/plain": [
       "<Figure size 720x576 with 1 Axes>"
      ]
     },
     "metadata": {
      "needs_background": "light"
     },
     "output_type": "display_data"
    }
   ],
   "source": [
    "plt.figure(figsize = (10, 8))\n",
    "plt.grid()\n",
    "\n",
    "# Reference: https://stackoverflow.com/questions/3777861/setting-y-axis-limit-in-matplotlib\n",
    "ax = []\n",
    "ax = plt.gca()\n",
    "ax.set_xlim([0, 100])\n",
    "ax.set_ylim([0.000, 0.010])\n",
    "\n",
    "epoch = range(0, 100)\n",
    "plt.plot(epoch, vanilla_loss, 'b', label='Loss with Vanilla update of weights')\n",
    "plt.plot(epoch, momentum_loss, 'y', label='Loss with Momentum update of weights')\n",
    "plt.plot(epoch, adam_loss, 'g', label='Loss with Adam update of weights')\n",
    "plt.xlabel('Epochs')\n",
    "plt.ylabel('Loss')\n",
    "plt.title('Epoch v/s Loss')\n",
    "plt.legend()\n",
    "plt.show()"
   ]
  },
  {
   "cell_type": "markdown",
   "metadata": {},
   "source": [
    "### Observations"
   ]
  },
  {
   "cell_type": "markdown",
   "metadata": {
    "id": "lfXSaOP8rjBY"
   },
   "source": [
    "_1. Vanilla update - Loss is decreasing after every epoch._\n",
    "\n",
    "_2. Momentum update - Loss is significantly lower than Vanilla update but higher than Adam update._\n",
    "\n",
    "_3. Adam update - Loss is minimum in Adam. Hence, we conclude that Adam optimization is the best._"
   ]
  }
 ],
 "metadata": {
  "colab": {
   "collapsed_sections": [],
   "name": "Backpropagation_assignment.ipynb",
   "provenance": []
  },
  "kernelspec": {
   "display_name": "Python 3 (ipykernel)",
   "language": "python",
   "name": "python3"
  },
  "language_info": {
   "codemirror_mode": {
    "name": "ipython",
    "version": 3
   },
   "file_extension": ".py",
   "mimetype": "text/x-python",
   "name": "python",
   "nbconvert_exporter": "python",
   "pygments_lexer": "ipython3",
   "version": "3.9.7"
  }
 },
 "nbformat": 4,
 "nbformat_minor": 1
}
